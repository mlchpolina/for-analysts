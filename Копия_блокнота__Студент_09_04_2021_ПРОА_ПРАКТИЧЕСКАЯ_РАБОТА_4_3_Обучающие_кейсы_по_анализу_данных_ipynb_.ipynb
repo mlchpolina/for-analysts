{
  "nbformat": 4,
  "nbformat_minor": 0,
  "metadata": {
    "colab": {
      "name": "Копия блокнота \"Студент 09-04-2021 ПРОА ПРАКТИЧЕСКАЯ РАБОТА 4-3 Обучающие кейсы по анализу данных.ipynb\"",
      "provenance": [],
      "collapsed_sections": [
        "G2djkfEJQPn5",
        "NiUEGB2gSM6M",
        "VzHUvA32Uaxm",
        "w-W57tINVC2z"
      ]
    },
    "kernelspec": {
      "name": "python3",
      "display_name": "Python 3"
    },
    "language_info": {
      "name": "python"
    }
  },
  "cells": [
    {
      "cell_type": "markdown",
      "metadata": {
        "id": "tjjkXUiPUzd7"
      },
      "source": [
        "# **Case study 1**: Highest grossing movies in France – analyzing unstructured data"
      ]
    },
    {
      "cell_type": "markdown",
      "metadata": {
        "id": "y35IK1tKOHFo"
      },
      "source": [
        "# **Шаг 1. Импорт данных и изучение характеристик наборов данных.**"
      ]
    },
    {
      "cell_type": "markdown",
      "metadata": {
        "id": "PEGx4ggZPCwS"
      },
      "source": [
        "Мы импортируем все библиотеки и сохраняем URL в переменной. Затем мы делаем HTTP запросить этот URL-адрес с помощью метода get для получения информации с этой веб-страницы.\n",
        "Текстовый атрибут объекта запросов содержит данные HTML, которые передаются в функция pd.read_html. Эта функция возвращает список объектов DataFrame, содержащих различные таблицы на веб-странице. Поскольку на веб-странице есть только одна таблица, DataFrame (df) содержит только одну таблицу."
      ]
    },
    {
      "cell_type": "code",
      "metadata": {
        "id": "HUyaKVClN7jD"
      },
      "source": [
        "#importing the libraries\n",
        "import requests\n",
        "import pandas as pd\n",
        "import seaborn as sns\n",
        "import matplotlib.pyplot as plt\n",
        "#Importing the data from the webpage into a DataFrame\n",
        "\n",
        "#Ваш код"
      ],
      "execution_count": null,
      "outputs": []
    },
    {
      "cell_type": "markdown",
      "metadata": {
        "id": "EY3gw9kpPTb3"
      },
      "source": [
        "\n",
        "Изучаем  первые 5 записей: "
      ]
    },
    {
      "cell_type": "code",
      "metadata": {
        "id": "A336U7_sOZ_D"
      },
      "source": [
        "#Ваш код"
      ],
      "execution_count": null,
      "outputs": []
    },
    {
      "cell_type": "markdown",
      "metadata": {
        "id": "BFLSQCIyDt7d"
      },
      "source": [
        ""
      ]
    },
    {
      "cell_type": "markdown",
      "metadata": {
        "id": "TcQWoBGJPcsX"
      },
      "source": [
        "Получение типов данных и пропущенных значений:"
      ]
    },
    {
      "cell_type": "code",
      "metadata": {
        "id": "ml-T0-w4PjST"
      },
      "source": [
        "#Ваш код"
      ],
      "execution_count": null,
      "outputs": []
    },
    {
      "cell_type": "markdown",
      "metadata": {
        "id": "1ebLxDUDPt5x"
      },
      "source": [
        "Как мы видим, типы данных столбцов не в нужном нам формате. Gross столбец представляет собой числовой столбец. Однако этому столбцу был назначен тип данных объекта, поскольку он содержит как числовые, так и нечисловые\n",
        "данные (символы типа “,”, “$”  и буквы типа «U» и «S»). Преобразуем данные:"
      ]
    },
    {
      "cell_type": "markdown",
      "metadata": {
        "id": "G2djkfEJQPn5"
      },
      "source": [
        "# **Шаг 2. Обработка данных** "
      ]
    },
    {
      "cell_type": "markdown",
      "metadata": {
        "id": "BKn1Ks5aQWjG"
      },
      "source": [
        "На этом этапе мы:\n",
        "  1. Удалим ненужные символы.\n",
        "  2. Изменим типы данных.\n",
        "  3. Удалим ненужные столбцы.\n",
        "  4. Создадим новый столбец из существующего столбца."
      ]
    },
    {
      "cell_type": "markdown",
      "metadata": {
        "id": "zRPAhP-yQxYR"
      },
      "source": [
        "Удалим ненужные строки из столбца **Gross**, оставив только\n",
        "числовые значения:"
      ]
    },
    {
      "cell_type": "code",
      "metadata": {
        "id": "smvlut1cQyb9"
      },
      "source": [
        "#Ваш код"
      ],
      "execution_count": null,
      "outputs": []
    },
    {
      "cell_type": "markdown",
      "metadata": {
        "id": "qj63VFn9RBGI"
      },
      "source": [
        " Первая замена\n",
        "метод удаляет «US$», а второй метод замены удаляет запятые. Замена\n",
        "символ с пустой строкой (\"\") эквивалентен удалению символа. Теперь давайте используем метод **astype** для приведения типа или изменения типа данных этого столбца на **int64**, чтобы этот столбец можно было использовать для вычислений и визуализаций:"
      ]
    },
    {
      "cell_type": "code",
      "metadata": {
        "id": "Y0GR4N_QRYlY"
      },
      "source": [
        "#Ваш код"
      ],
      "execution_count": null,
      "outputs": []
    },
    {
      "cell_type": "markdown",
      "metadata": {
        "id": "2cyNPLLcRcah"
      },
      "source": [
        "check:"
      ]
    },
    {
      "cell_type": "code",
      "metadata": {
        "id": "6QowMMUPRdhg"
      },
      "source": [
        "#Ваш код"
      ],
      "execution_count": null,
      "outputs": []
    },
    {
      "cell_type": "markdown",
      "metadata": {
        "id": "wRo4759zRmbk"
      },
      "source": [
        "Нам также нужно извлечь месяц из даты, сначала изменив тип данных столбца «Дата» и затем применив к нему метод **DatetimeIndex**, как показано ниже:"
      ]
    },
    {
      "cell_type": "code",
      "metadata": {
        "id": "i7MCd0NZR35E"
      },
      "source": [
        "#Ваш код"
      ],
      "execution_count": null,
      "outputs": []
    },
    {
      "cell_type": "code",
      "metadata": {
        "id": "HhOGWYERR98k"
      },
      "source": [
        "#Ваш код"
      ],
      "execution_count": null,
      "outputs": []
    },
    {
      "cell_type": "markdown",
      "metadata": {
        "id": "qGS5TsTeSFQX"
      },
      "source": [
        "Наконец, мы удаляем два ненужных столбца из DataFrame, используя следующие\n",
        "утверждение."
      ]
    },
    {
      "cell_type": "code",
      "metadata": {
        "id": "X-gP7tlVSGfy"
      },
      "source": [
        "#Ваш код"
      ],
      "execution_count": null,
      "outputs": []
    },
    {
      "cell_type": "markdown",
      "metadata": {
        "id": "NiUEGB2gSM6M"
      },
      "source": [
        "# **Шаг 3: Визуализация**"
      ]
    },
    {
      "cell_type": "markdown",
      "metadata": {
        "id": "q_2vjlbpSRLP"
      },
      "source": [
        " сначала мы создаем еще один DataFrame (df1), который содержит подмножество\n",
        "столбцов, которые содержат исходный DataFrame (df). Этот DataFrame, df1, содержит всего два столбцы - «Фильм» (название фильма) и «Gross» (Выручка). Затем мы сортируем значения выручки в порядке убывания. "
      ]
    },
    {
      "cell_type": "code",
      "metadata": {
        "id": "pEA66lJ6Srxa"
      },
      "source": [
        "#Ваш код"
      ],
      "execution_count": null,
      "outputs": []
    },
    {
      "cell_type": "markdown",
      "metadata": {
        "id": "jZ3hTCrHS4P3"
      },
      "source": [
        "В этот DataFrame добавляется нежелательный столбец («index»)"
      ]
    },
    {
      "cell_type": "code",
      "metadata": {
        "id": "2Z68RG5oS8kE"
      },
      "source": [
        "#df1.drop(['index'],axis=1,inplace=True)"
      ],
      "execution_count": null,
      "outputs": []
    },
    {
      "cell_type": "code",
      "metadata": {
        "id": "u3qCrwtuTLU6"
      },
      "source": [
        "#Ваш код"
      ],
      "execution_count": null,
      "outputs": []
    },
    {
      "cell_type": "markdown",
      "metadata": {
        "id": "UdYoKFT-T_OX"
      },
      "source": [
        "Чтобы отобразить долю десяти лучших фильмов (по выручке), мы создаем круговую диаграмму."
      ]
    },
    {
      "cell_type": "code",
      "metadata": {
        "id": "K9YQypn8T2PJ"
      },
      "source": [
        "#Ваш код"
      ],
      "execution_count": null,
      "outputs": []
    },
    {
      "cell_type": "markdown",
      "metadata": {
        "id": "2l-4y9JCUJ3A"
      },
      "source": [
        "Сначала мы создаем еще один DataFrame, который собирает данные за месяц, вычисляя в среднем за каждый месяц"
      ]
    },
    {
      "cell_type": "code",
      "metadata": {
        "id": "0CaQqkDMUM-l"
      },
      "source": [
        "#Ваш код"
      ],
      "execution_count": null,
      "outputs": []
    },
    {
      "cell_type": "markdown",
      "metadata": {
        "id": "VzHUvA32Uaxm"
      },
      "source": [
        "# **Шаг 4: построение выводов на основе анализа и визуализаций**"
      ]
    },
    {
      "cell_type": "markdown",
      "metadata": {
        "id": "UWJqsop6UcsA"
      },
      "source": [
        "1. Средний ежемесячный доход сильно колеблется, возможно\n",
        "зависит от месяца выпуска фильмов, который может требуют дальнейшего анализа на протяжении многих лет.\n",
        "  2. Три самых прибыльных фильма во Франции в 2018 году вышли Avengers, La Ch’tite Famille и Les Tuche 3."
      ]
    },
    {
      "cell_type": "markdown",
      "metadata": {
        "id": "w-W57tINVC2z"
      },
      "source": [
        "# **Case study 2: Use of data analysis for air quality management**"
      ]
    },
    {
      "cell_type": "markdown",
      "metadata": {
        "id": "jZMWTcwLVqPV"
      },
      "source": [
        "Для мониторинга состояния качества атмосферного воздуха Центральный совет по контролю за загрязнением (ЦCКЗ) Индии управляет обширной сетью станций мониторинга, разбросанных по всей стране. Регулярно контролируемые параметры включают диоксид серы (SO2), оксиды азота в виде диоксида азота (NO2), озон и мелкие твердые частицы (PM2,5). Основываясь на тенденциях на протяжении многих лет, качество воздуха в столице страны Дели стало предметом озабоченности общественности.\n",
        "Далее следует пошаговый анализ ежедневных данных о качестве воздуха, чтобы продемонстрировать, как анализ данных может помочь в планировании мероприятий в рамках управления качеством воздуха.\n",
        "**Примечание.** Набор данных, использованный для этого тематического исследования, называется **«NSIT Dwarka.csv»**. Пожалуйста, обратитесь к разделу технического описания для получения подробной информации о том, как импортировать этот набор данных."
      ]
    },
    {
      "cell_type": "markdown",
      "metadata": {
        "id": "NalhUbxlWAz-"
      },
      "source": [
        "Вопросы, на которые мы хотим ответить с помощью нашего анализа:\n",
        " 1. Среднегодовые значения: из четырех загрязнителей - SO2, NO2, озона и PM2,5 - среднегодовые уровни которых регулярно превышают установленные годовые нормы?\n",
        " 2. Суточные нормы. В отношении загрязнителей, какое количество дней в году дневные нормы превышаются?\n",
        " 3. Временные колебания. В какие месяцы уровни загрязнения превышают критические уровни в большинстве дней?"
      ]
    },
    {
      "cell_type": "markdown",
      "metadata": {
        "id": "EWA-jjbPWqSP"
      },
      "source": [
        "# **Шаг 1. Импорт данных и изучение характеристик наборов данных.**"
      ]
    },
    {
      "cell_type": "code",
      "metadata": {
        "id": "XQUZCPArWWd0",
        "colab": {
          "resources": {
            "http://localhost:8080/nbextensions/google.colab/files.js": {
              "data": "Ly8gQ29weXJpZ2h0IDIwMTcgR29vZ2xlIExMQwovLwovLyBMaWNlbnNlZCB1bmRlciB0aGUgQXBhY2hlIExpY2Vuc2UsIFZlcnNpb24gMi4wICh0aGUgIkxpY2Vuc2UiKTsKLy8geW91IG1heSBub3QgdXNlIHRoaXMgZmlsZSBleGNlcHQgaW4gY29tcGxpYW5jZSB3aXRoIHRoZSBMaWNlbnNlLgovLyBZb3UgbWF5IG9idGFpbiBhIGNvcHkgb2YgdGhlIExpY2Vuc2UgYXQKLy8KLy8gICAgICBodHRwOi8vd3d3LmFwYWNoZS5vcmcvbGljZW5zZXMvTElDRU5TRS0yLjAKLy8KLy8gVW5sZXNzIHJlcXVpcmVkIGJ5IGFwcGxpY2FibGUgbGF3IG9yIGFncmVlZCB0byBpbiB3cml0aW5nLCBzb2Z0d2FyZQovLyBkaXN0cmlidXRlZCB1bmRlciB0aGUgTGljZW5zZSBpcyBkaXN0cmlidXRlZCBvbiBhbiAiQVMgSVMiIEJBU0lTLAovLyBXSVRIT1VUIFdBUlJBTlRJRVMgT1IgQ09ORElUSU9OUyBPRiBBTlkgS0lORCwgZWl0aGVyIGV4cHJlc3Mgb3IgaW1wbGllZC4KLy8gU2VlIHRoZSBMaWNlbnNlIGZvciB0aGUgc3BlY2lmaWMgbGFuZ3VhZ2UgZ292ZXJuaW5nIHBlcm1pc3Npb25zIGFuZAovLyBsaW1pdGF0aW9ucyB1bmRlciB0aGUgTGljZW5zZS4KCi8qKgogKiBAZmlsZW92ZXJ2aWV3IEhlbHBlcnMgZm9yIGdvb2dsZS5jb2xhYiBQeXRob24gbW9kdWxlLgogKi8KKGZ1bmN0aW9uKHNjb3BlKSB7CmZ1bmN0aW9uIHNwYW4odGV4dCwgc3R5bGVBdHRyaWJ1dGVzID0ge30pIHsKICBjb25zdCBlbGVtZW50ID0gZG9jdW1lbnQuY3JlYXRlRWxlbWVudCgnc3BhbicpOwogIGVsZW1lbnQudGV4dENvbnRlbnQgPSB0ZXh0OwogIGZvciAoY29uc3Qga2V5IG9mIE9iamVjdC5rZXlzKHN0eWxlQXR0cmlidXRlcykpIHsKICAgIGVsZW1lbnQuc3R5bGVba2V5XSA9IHN0eWxlQXR0cmlidXRlc1trZXldOwogIH0KICByZXR1cm4gZWxlbWVudDsKfQoKLy8gTWF4IG51bWJlciBvZiBieXRlcyB3aGljaCB3aWxsIGJlIHVwbG9hZGVkIGF0IGEgdGltZS4KY29uc3QgTUFYX1BBWUxPQURfU0laRSA9IDEwMCAqIDEwMjQ7CgpmdW5jdGlvbiBfdXBsb2FkRmlsZXMoaW5wdXRJZCwgb3V0cHV0SWQpIHsKICBjb25zdCBzdGVwcyA9IHVwbG9hZEZpbGVzU3RlcChpbnB1dElkLCBvdXRwdXRJZCk7CiAgY29uc3Qgb3V0cHV0RWxlbWVudCA9IGRvY3VtZW50LmdldEVsZW1lbnRCeUlkKG91dHB1dElkKTsKICAvLyBDYWNoZSBzdGVwcyBvbiB0aGUgb3V0cHV0RWxlbWVudCB0byBtYWtlIGl0IGF2YWlsYWJsZSBmb3IgdGhlIG5leHQgY2FsbAogIC8vIHRvIHVwbG9hZEZpbGVzQ29udGludWUgZnJvbSBQeXRob24uCiAgb3V0cHV0RWxlbWVudC5zdGVwcyA9IHN0ZXBzOwoKICByZXR1cm4gX3VwbG9hZEZpbGVzQ29udGludWUob3V0cHV0SWQpOwp9CgovLyBUaGlzIGlzIHJvdWdobHkgYW4gYXN5bmMgZ2VuZXJhdG9yIChub3Qgc3VwcG9ydGVkIGluIHRoZSBicm93c2VyIHlldCksCi8vIHdoZXJlIHRoZXJlIGFyZSBtdWx0aXBsZSBhc3luY2hyb25vdXMgc3RlcHMgYW5kIHRoZSBQeXRob24gc2lkZSBpcyBnb2luZwovLyB0byBwb2xsIGZvciBjb21wbGV0aW9uIG9mIGVhY2ggc3RlcC4KLy8gVGhpcyB1c2VzIGEgUHJvbWlzZSB0byBibG9jayB0aGUgcHl0aG9uIHNpZGUgb24gY29tcGxldGlvbiBvZiBlYWNoIHN0ZXAsCi8vIHRoZW4gcGFzc2VzIHRoZSByZXN1bHQgb2YgdGhlIHByZXZpb3VzIHN0ZXAgYXMgdGhlIGlucHV0IHRvIHRoZSBuZXh0IHN0ZXAuCmZ1bmN0aW9uIF91cGxvYWRGaWxlc0NvbnRpbnVlKG91dHB1dElkKSB7CiAgY29uc3Qgb3V0cHV0RWxlbWVudCA9IGRvY3VtZW50LmdldEVsZW1lbnRCeUlkKG91dHB1dElkKTsKICBjb25zdCBzdGVwcyA9IG91dHB1dEVsZW1lbnQuc3RlcHM7CgogIGNvbnN0IG5leHQgPSBzdGVwcy5uZXh0KG91dHB1dEVsZW1lbnQubGFzdFByb21pc2VWYWx1ZSk7CiAgcmV0dXJuIFByb21pc2UucmVzb2x2ZShuZXh0LnZhbHVlLnByb21pc2UpLnRoZW4oKHZhbHVlKSA9PiB7CiAgICAvLyBDYWNoZSB0aGUgbGFzdCBwcm9taXNlIHZhbHVlIHRvIG1ha2UgaXQgYXZhaWxhYmxlIHRvIHRoZSBuZXh0CiAgICAvLyBzdGVwIG9mIHRoZSBnZW5lcmF0b3IuCiAgICBvdXRwdXRFbGVtZW50Lmxhc3RQcm9taXNlVmFsdWUgPSB2YWx1ZTsKICAgIHJldHVybiBuZXh0LnZhbHVlLnJlc3BvbnNlOwogIH0pOwp9CgovKioKICogR2VuZXJhdG9yIGZ1bmN0aW9uIHdoaWNoIGlzIGNhbGxlZCBiZXR3ZWVuIGVhY2ggYXN5bmMgc3RlcCBvZiB0aGUgdXBsb2FkCiAqIHByb2Nlc3MuCiAqIEBwYXJhbSB7c3RyaW5nfSBpbnB1dElkIEVsZW1lbnQgSUQgb2YgdGhlIGlucHV0IGZpbGUgcGlja2VyIGVsZW1lbnQuCiAqIEBwYXJhbSB7c3RyaW5nfSBvdXRwdXRJZCBFbGVtZW50IElEIG9mIHRoZSBvdXRwdXQgZGlzcGxheS4KICogQHJldHVybiB7IUl0ZXJhYmxlPCFPYmplY3Q+fSBJdGVyYWJsZSBvZiBuZXh0IHN0ZXBzLgogKi8KZnVuY3Rpb24qIHVwbG9hZEZpbGVzU3RlcChpbnB1dElkLCBvdXRwdXRJZCkgewogIGNvbnN0IGlucHV0RWxlbWVudCA9IGRvY3VtZW50LmdldEVsZW1lbnRCeUlkKGlucHV0SWQpOwogIGlucHV0RWxlbWVudC5kaXNhYmxlZCA9IGZhbHNlOwoKICBjb25zdCBvdXRwdXRFbGVtZW50ID0gZG9jdW1lbnQuZ2V0RWxlbWVudEJ5SWQob3V0cHV0SWQpOwogIG91dHB1dEVsZW1lbnQuaW5uZXJIVE1MID0gJyc7CgogIGNvbnN0IHBpY2tlZFByb21pc2UgPSBuZXcgUHJvbWlzZSgocmVzb2x2ZSkgPT4gewogICAgaW5wdXRFbGVtZW50LmFkZEV2ZW50TGlzdGVuZXIoJ2NoYW5nZScsIChlKSA9PiB7CiAgICAgIHJlc29sdmUoZS50YXJnZXQuZmlsZXMpOwogICAgfSk7CiAgfSk7CgogIGNvbnN0IGNhbmNlbCA9IGRvY3VtZW50LmNyZWF0ZUVsZW1lbnQoJ2J1dHRvbicpOwogIGlucHV0RWxlbWVudC5wYXJlbnRFbGVtZW50LmFwcGVuZENoaWxkKGNhbmNlbCk7CiAgY2FuY2VsLnRleHRDb250ZW50ID0gJ0NhbmNlbCB1cGxvYWQnOwogIGNvbnN0IGNhbmNlbFByb21pc2UgPSBuZXcgUHJvbWlzZSgocmVzb2x2ZSkgPT4gewogICAgY2FuY2VsLm9uY2xpY2sgPSAoKSA9PiB7CiAgICAgIHJlc29sdmUobnVsbCk7CiAgICB9OwogIH0pOwoKICAvLyBXYWl0IGZvciB0aGUgdXNlciB0byBwaWNrIHRoZSBmaWxlcy4KICBjb25zdCBmaWxlcyA9IHlpZWxkIHsKICAgIHByb21pc2U6IFByb21pc2UucmFjZShbcGlja2VkUHJvbWlzZSwgY2FuY2VsUHJvbWlzZV0pLAogICAgcmVzcG9uc2U6IHsKICAgICAgYWN0aW9uOiAnc3RhcnRpbmcnLAogICAgfQogIH07CgogIGNhbmNlbC5yZW1vdmUoKTsKCiAgLy8gRGlzYWJsZSB0aGUgaW5wdXQgZWxlbWVudCBzaW5jZSBmdXJ0aGVyIHBpY2tzIGFyZSBub3QgYWxsb3dlZC4KICBpbnB1dEVsZW1lbnQuZGlzYWJsZWQgPSB0cnVlOwoKICBpZiAoIWZpbGVzKSB7CiAgICByZXR1cm4gewogICAgICByZXNwb25zZTogewogICAgICAgIGFjdGlvbjogJ2NvbXBsZXRlJywKICAgICAgfQogICAgfTsKICB9CgogIGZvciAoY29uc3QgZmlsZSBvZiBmaWxlcykgewogICAgY29uc3QgbGkgPSBkb2N1bWVudC5jcmVhdGVFbGVtZW50KCdsaScpOwogICAgbGkuYXBwZW5kKHNwYW4oZmlsZS5uYW1lLCB7Zm9udFdlaWdodDogJ2JvbGQnfSkpOwogICAgbGkuYXBwZW5kKHNwYW4oCiAgICAgICAgYCgke2ZpbGUudHlwZSB8fCAnbi9hJ30pIC0gJHtmaWxlLnNpemV9IGJ5dGVzLCBgICsKICAgICAgICBgbGFzdCBtb2RpZmllZDogJHsKICAgICAgICAgICAgZmlsZS5sYXN0TW9kaWZpZWREYXRlID8gZmlsZS5sYXN0TW9kaWZpZWREYXRlLnRvTG9jYWxlRGF0ZVN0cmluZygpIDoKICAgICAgICAgICAgICAgICAgICAgICAgICAgICAgICAgICAgJ24vYSd9IC0gYCkpOwogICAgY29uc3QgcGVyY2VudCA9IHNwYW4oJzAlIGRvbmUnKTsKICAgIGxpLmFwcGVuZENoaWxkKHBlcmNlbnQpOwoKICAgIG91dHB1dEVsZW1lbnQuYXBwZW5kQ2hpbGQobGkpOwoKICAgIGNvbnN0IGZpbGVEYXRhUHJvbWlzZSA9IG5ldyBQcm9taXNlKChyZXNvbHZlKSA9PiB7CiAgICAgIGNvbnN0IHJlYWRlciA9IG5ldyBGaWxlUmVhZGVyKCk7CiAgICAgIHJlYWRlci5vbmxvYWQgPSAoZSkgPT4gewogICAgICAgIHJlc29sdmUoZS50YXJnZXQucmVzdWx0KTsKICAgICAgfTsKICAgICAgcmVhZGVyLnJlYWRBc0FycmF5QnVmZmVyKGZpbGUpOwogICAgfSk7CiAgICAvLyBXYWl0IGZvciB0aGUgZGF0YSB0byBiZSByZWFkeS4KICAgIGxldCBmaWxlRGF0YSA9IHlpZWxkIHsKICAgICAgcHJvbWlzZTogZmlsZURhdGFQcm9taXNlLAogICAgICByZXNwb25zZTogewogICAgICAgIGFjdGlvbjogJ2NvbnRpbnVlJywKICAgICAgfQogICAgfTsKCiAgICAvLyBVc2UgYSBjaHVua2VkIHNlbmRpbmcgdG8gYXZvaWQgbWVzc2FnZSBzaXplIGxpbWl0cy4gU2VlIGIvNjIxMTU2NjAuCiAgICBsZXQgcG9zaXRpb24gPSAwOwogICAgd2hpbGUgKHBvc2l0aW9uIDwgZmlsZURhdGEuYnl0ZUxlbmd0aCkgewogICAgICBjb25zdCBsZW5ndGggPSBNYXRoLm1pbihmaWxlRGF0YS5ieXRlTGVuZ3RoIC0gcG9zaXRpb24sIE1BWF9QQVlMT0FEX1NJWkUpOwogICAgICBjb25zdCBjaHVuayA9IG5ldyBVaW50OEFycmF5KGZpbGVEYXRhLCBwb3NpdGlvbiwgbGVuZ3RoKTsKICAgICAgcG9zaXRpb24gKz0gbGVuZ3RoOwoKICAgICAgY29uc3QgYmFzZTY0ID0gYnRvYShTdHJpbmcuZnJvbUNoYXJDb2RlLmFwcGx5KG51bGwsIGNodW5rKSk7CiAgICAgIHlpZWxkIHsKICAgICAgICByZXNwb25zZTogewogICAgICAgICAgYWN0aW9uOiAnYXBwZW5kJywKICAgICAgICAgIGZpbGU6IGZpbGUubmFtZSwKICAgICAgICAgIGRhdGE6IGJhc2U2NCwKICAgICAgICB9LAogICAgICB9OwogICAgICBwZXJjZW50LnRleHRDb250ZW50ID0KICAgICAgICAgIGAke01hdGgucm91bmQoKHBvc2l0aW9uIC8gZmlsZURhdGEuYnl0ZUxlbmd0aCkgKiAxMDApfSUgZG9uZWA7CiAgICB9CiAgfQoKICAvLyBBbGwgZG9uZS4KICB5aWVsZCB7CiAgICByZXNwb25zZTogewogICAgICBhY3Rpb246ICdjb21wbGV0ZScsCiAgICB9CiAgfTsKfQoKc2NvcGUuZ29vZ2xlID0gc2NvcGUuZ29vZ2xlIHx8IHt9OwpzY29wZS5nb29nbGUuY29sYWIgPSBzY29wZS5nb29nbGUuY29sYWIgfHwge307CnNjb3BlLmdvb2dsZS5jb2xhYi5fZmlsZXMgPSB7CiAgX3VwbG9hZEZpbGVzLAogIF91cGxvYWRGaWxlc0NvbnRpbnVlLAp9Owp9KShzZWxmKTsK",
              "ok": true,
              "headers": [
                [
                  "content-type",
                  "application/javascript"
                ]
              ],
              "status": 200,
              "status_text": ""
            }
          },
          "base_uri": "https://localhost:8080/",
          "height": 39
        },
        "outputId": "48362665-51e0-4c65-bd9a-cb6d708ac975"
      },
      "source": [
        "from google.colab import files\n",
        "uploaded = files.upload()"
      ],
      "execution_count": null,
      "outputs": [
        {
          "output_type": "display_data",
          "data": {
            "text/html": [
              "\n",
              "     <input type=\"file\" id=\"files-2bdbe3bd-e446-4c3e-9fb0-8638ce75a7d3\" name=\"files[]\" multiple disabled\n",
              "        style=\"border:none\" />\n",
              "     <output id=\"result-2bdbe3bd-e446-4c3e-9fb0-8638ce75a7d3\">\n",
              "      Upload widget is only available when the cell has been executed in the\n",
              "      current browser session. Please rerun this cell to enable.\n",
              "      </output>\n",
              "      <script src=\"/nbextensions/google.colab/files.js\"></script> "
            ],
            "text/plain": [
              "<IPython.core.display.HTML object>"
            ]
          },
          "metadata": {
            "tags": []
          }
        }
      ]
    },
    {
      "cell_type": "code",
      "metadata": {
        "id": "2kaPjgYnWUcl"
      },
      "source": [
        "import pandas as pd\n",
        "import numpy as np\n",
        "import seaborn as sns\n",
        "import matplotlib.pyplot as plt\n",
        "#aqdata is the name of the DataFrame, short for Air Quality Data.\n",
        "aqdata=pd.read_csv('NSIT Dwarka.csv')\n",
        "aqdata.head()"
      ],
      "execution_count": null,
      "outputs": []
    },
    {
      "cell_type": "markdown",
      "metadata": {
        "id": "VsVqw4McWxkS"
      },
      "source": [
        "Проверка типов данных столбцов:"
      ]
    },
    {
      "cell_type": "code",
      "metadata": {
        "id": "I7Y9XJ19Wy09"
      },
      "source": [
        "aqdata.info()"
      ],
      "execution_count": null,
      "outputs": []
    },
    {
      "cell_type": "markdown",
      "metadata": {
        "id": "QWw6uXu-W90m"
      },
      "source": [
        "Наблюдение: хотя значения SO2, NO2, озона и PM2,5 являются числовыми, Pandasсчитывает тип данных этих столбцов как «объект». Для работы с этими столбцами (т. Е. Построить график графики, наблюдать за тенденциями, рассчитывать агрегированные значения), нам нужно изменить типы данных\n",
        "эти столбцы. Кроме того, похоже, есть некоторые недостающие записи."
      ]
    },
    {
      "cell_type": "markdown",
      "metadata": {
        "id": "et3y9bLWXDrs"
      },
      "source": [
        "# **Шаг 2. Обработка данных**"
      ]
    },
    {
      "cell_type": "markdown",
      "metadata": {
        "id": "NXW65ABuXNfM"
      },
      "source": [
        "Основываясь на наблюдениях на предыдущем шаге, на этом шаге мы будем\n",
        "  1. Работать с пропущенными значениями. У нас есть возможность отказаться от нулевые значения или замена нулевых значений.\n",
        "  2. Изменение типа данных для столбцов.\n",
        "\n",
        "Проверим наличие отсутствующих значений в наборе данных:"
      ]
    },
    {
      "cell_type": "code",
      "metadata": {
        "id": "bk8v7E8oXa0B"
      },
      "source": [
        "aqdata.isna().sum() #пропущенные значения \n",
        "\n"
      ],
      "execution_count": null,
      "outputs": []
    },
    {
      "cell_type": "markdown",
      "metadata": {
        "id": "u3F4-JZYXmht"
      },
      "source": [
        "Кажется, что пропущенных значений не так много, но в этом и заключается загвоздка. Когда мы проверив первые несколько строк с помощью оператора head, мы увидели, что некоторые пропущенные значения представлены как **None **в исходном наборе данных. Однако они не признаются как нулевые значения от Pandas. Заменим значение **None** значением **np.nan**, чтобы **Pandas** признает эти значения как нулевые значения:"
      ]
    },
    {
      "cell_type": "code",
      "metadata": {
        "id": "T9wl_fLeXt4K"
      },
      "source": [
        "aqdata=aqdata.replace({'None':np.nan})\n",
        "aqdata.isna().sum() #проверка none"
      ],
      "execution_count": null,
      "outputs": []
    },
    {
      "cell_type": "code",
      "metadata": {
        "id": "tAsHnBHEX6ZU"
      },
      "source": [
        "aqdata.info()"
      ],
      "execution_count": null,
      "outputs": []
    },
    {
      "cell_type": "markdown",
      "metadata": {
        "id": "irDUSsmdYE2S"
      },
      "source": [
        "Мы видим, что столбцы, содержащие числовые значения, не распознаются как числовые столбцы, а столбцы, содержащие даты, также не распознаются правильно. Имея столбцы с неправильными типами данных становятся препятствием для следующего шага, на котором мы анализировать тенденции и строить графики; этот шаг требует, чтобы типы данных столбцов были в\n",
        "формате, подходящем для чтения. В следующих строках кода мы используем метод ***pd.to_datetime*** для преобразования типа данных.\n",
        "столбцов «From Date» и «To Date» к типу datetime, что упрощает\n",
        "анализируйте отдельные компоненты даты, такие как месяцы и годы."
      ]
    },
    {
      "cell_type": "code",
      "metadata": {
        "id": "4oISNXEKYTOq"
      },
      "source": [
        "aqdata['From Date']=pd.to_datetime(aqdata['From Date'], format='%d-%m-%Y %H:%M')\n",
        "aqdata['To Date']=pd.to_datetime(aqdata['To Date'], format='%d-%m-%Y %H:%M')\n",
        "aqdata['SO2']=pd.to_numeric(aqdata['SO2'],errors='coerce')\n",
        "aqdata['NO2']=pd.to_numeric(aqdata['NO2'],errors='coerce')\n",
        "aqdata['Ozone']=pd.to_numeric(aqdata['Ozone'],errors='coerce')\n",
        "aqdata['PM2.5']=pd.to_numeric(aqdata['PM2.5'],errors='coerce')"
      ],
      "execution_count": null,
      "outputs": []
    },
    {
      "cell_type": "code",
      "metadata": {
        "id": "LZc9ZmtVYcP_"
      },
      "source": [
        "aqdata.info()"
      ],
      "execution_count": null,
      "outputs": []
    },
    {
      "cell_type": "markdown",
      "metadata": {
        "id": "-OtbklLlYt4W"
      },
      "source": [
        "Поскольку большая часть нашего анализа рассматривает годовые данные, мы создаем новый столбец для извлечения\n",
        "года, используя функцию **pd.DatetimeIndex**."
      ]
    },
    {
      "cell_type": "code",
      "metadata": {
        "id": "VvdkGxpLT0aR"
      },
      "source": [
        "aqdata['Year']=pd.DatetimeIndex(aqdata['From Date']).year "
      ],
      "execution_count": null,
      "outputs": []
    },
    {
      "cell_type": "code",
      "metadata": {
        "id": "733C6_uwYpf5"
      },
      "source": [
        "aq2014=aqdata[aqdata['Year']==2014]\n",
        "aq2015=aqdata[aqdata['Year']==2015]\n",
        "aq2016=aqdata[aqdata['Year']==2016]\n",
        "aq2017=aqdata[aqdata['Year']==2017]\n",
        "aq2018=aqdata[aqdata['Year']==2018]\n",
        "aq2019=aqdata[aqdata['Year']==2019]"
      ],
      "execution_count": null,
      "outputs": []
    },
    {
      "cell_type": "markdown",
      "metadata": {
        "id": "JtAX3GTXY7L9"
      },
      "source": [
        "Теперь давайте посмотрим на количество нулевых значений в данных за каждый год:"
      ]
    },
    {
      "cell_type": "code",
      "metadata": {
        "id": "YFGVyLgMY8hY"
      },
      "source": [
        "aq2014.isna().sum()"
      ],
      "execution_count": null,
      "outputs": []
    },
    {
      "cell_type": "code",
      "metadata": {
        "id": "kD3CMkm5ZBwY"
      },
      "source": [
        "aq2015.isna().sum()"
      ],
      "execution_count": null,
      "outputs": []
    },
    {
      "cell_type": "code",
      "metadata": {
        "id": "5pvo7f7YZElS"
      },
      "source": [
        "aq2016.isna().sum()"
      ],
      "execution_count": null,
      "outputs": []
    },
    {
      "cell_type": "code",
      "metadata": {
        "id": "i7fSV5wTZHNf"
      },
      "source": [
        "aq2017.isna().sum()"
      ],
      "execution_count": null,
      "outputs": []
    },
    {
      "cell_type": "code",
      "metadata": {
        "id": "zoMZJBBKZIfE"
      },
      "source": [
        "aq2018.isna().sum()"
      ],
      "execution_count": null,
      "outputs": []
    },
    {
      "cell_type": "code",
      "metadata": {
        "id": "wrMimqA2ZLS4"
      },
      "source": [
        "aq2019.isna().sum()"
      ],
      "execution_count": null,
      "outputs": []
    },
    {
      "cell_type": "markdown",
      "metadata": {
        "id": "50CsUht7ZXTO"
      },
      "source": [
        "Из анализа нулевых значений для каждого года мы видим, что данные за 2014 и\n",
        "2015 имеют большинство недостающих значений. Следовательно, мы предпочитаем игнорировать данные из\n",
        "2014 и 2015 годы, и проанализировать данные за 4 года с 2016 по 2019 год. В соответствии с нормами установлено Центральным советом по контролю за загрязнением, Индия, нам необходимо ежедневно контролировать не менее 104\n",
        "значения для получения среднегодовых значений.\n",
        "2016, 2017, 2018 и 2019 - это четыре года, за которые будут собираться данные о качестве воздуха. Прежде чем перейти к следующему шагу, мы отбрасываем недостающие значения для каждого года. с 2016 по 2019 год вместо их замены, поскольку у нас достаточно данных (более104 показаний) для каждого из этих четырех лет, чтобы рассчитать среднегодовые значения, как показано ниже."
      ]
    },
    {
      "cell_type": "code",
      "metadata": {
        "id": "GGmftsu4ZN9H"
      },
      "source": [
        "aq2016.dropna(inplace=True)\n",
        "aq2017.dropna(inplace=True)\n",
        "aq2018.dropna(inplace=True)\n",
        "aq2019.dropna(inplace=True)"
      ],
      "execution_count": null,
      "outputs": []
    },
    {
      "cell_type": "markdown",
      "metadata": {
        "id": "tWMlIsk-Zzy1"
      },
      "source": [
        "# **Шаг 3: Визуализация**"
      ]
    },
    {
      "cell_type": "code",
      "metadata": {
        "id": "__h85zA_ZzRh"
      },
      "source": [
        "Часть 1 анализа: построение среднегодовых значений загрязняющих веществ.\n",
        "На основе данных мониторинга средних 24-часовых концентраций в атмосферном воздухе PM2,5, SO2,\n",
        "NO2 и озон (O3), среднегодовые значения наносятся на график для определения параметров, для которых\n",
        "установленные национальные стандарты качества атмосферного воздуха для среднегодовых превышений.\n",
        "Сначала мы рассчитываем среднегодовые значения для каждого загрязнителя (PM2,5, SO2, NO2 и озон), как\n",
        "следует:"
      ],
      "execution_count": null,
      "outputs": []
    },
    {
      "cell_type": "code",
      "metadata": {
        "id": "1566jJMEZ7n-"
      },
      "source": [
        "s16avg=round(aq2016['SO2'].mean(),2)\n",
        "s17avg=round(aq2016['SO2'].mean(),2)\n",
        "s18avg=round(aq2016['SO2'].mean(),2)\n",
        "s19avg=round(aq2016['SO2'].mean(),2)\n",
        "#cреднее годовое значение для рм2.5\n",
        "p16avg=round(aq2016['PM2.5'].mean(),2)\n",
        "p17avg=round(aq2016['PM2.5'].mean(),2)\n",
        "p18avg=round(aq2016['PM2.5'].mean(),2)\n",
        "p19avg=round(aq2016['PM2.5'].mean(),2)\n",
        "#cреднее годовое для но2\n",
        "n16avg=round(aq2016['NO2'].mean(),2)\n",
        "n17avg=round(aq2016['NO2'].mean(),2)\n",
        "n18avg=round(aq2016['NO2'].mean(),2)\n",
        "n19avg=round(aq2016['NO2'].mean(),2)"
      ],
      "execution_count": null,
      "outputs": []
    },
    {
      "cell_type": "markdown",
      "metadata": {
        "id": "_wTyS_71aF9b"
      },
      "source": [
        "Пояснение: Обозначения для именования переменных, представляющих средние значения загрязняющих веществ. выглядит следующим образом: первая буква загрязнителя, год и сокращение «avg» для в среднем. Например, s15avg обозначает средний уровень SO2 в 2015 году. Мы используем метод вычисления среднего и функция округления для округления среднего значение до двух десятичных знаков. Мы не рассматриваем озон, поскольку годовые стандарты не учитываются. применимо к озону. Затем мы создаем DataFrame для каждого загрязнителя с двумя столбцами в каждом. Один из столбцы представляют год, а другой столбец показывает средний годовой уровень для этот год."
      ]
    },
    {
      "cell_type": "code",
      "metadata": {
        "id": "b686YgFPaL4T"
      },
      "source": [
        "dfs=pd.DataFrame({'Yearly average':[s16avg,s17avg,s18avg,s19avg]},index=['2016','2017','2018','2019'])\n",
        "dfp=pd.DataFrame({'Yearly average':[p16avg,p17avg,p18avg,p19avg]},index=['2016','2017','2018','2019'])\n",
        "dfn=pd.DataFrame({'Yearly average':[n16avg,n17avg,n18avg,n19avg]},index=['2016','2017','2018','2019'])"
      ],
      "execution_count": null,
      "outputs": []
    },
    {
      "cell_type": "code",
      "metadata": {
        "id": "rh7LUX7saQbq"
      },
      "source": [
        "#Creating a figure with 3 subplots - 1 for each pollutant\n",
        "fig,(ax1,ax2,ax3)=plt.subplots(1,3)\n",
        "#Creating a DataFrame the yearly averages for NO2\n",
        "dfn.plot(kind='bar',figsize=(20,5),ax=ax1)\n",
        "#Setting the title for the first axes object\n",
        "ax1.set_title(\"NO2\", fontsize=18)\n",
        "#Setting the X-axis label for the NO2 graph\n",
        "ax1.set_xlabel(\"Years\", fontsize=18)\n",
        "ax1.legend().set_visible(False)\n",
        "#Setting the Y-axis label\n",
        "ax1.set_ylabel(\"Yearly average\", fontsize=18)\n",
        "#Creating a dashed line to indicate the annual standard\n",
        "ax1.hlines(40, -.9,15, linestyles=\"dashed\")\n",
        "#Labelling this dashed line\n",
        "ax1.annotate('Annual avg. standard for NO2',(-0.5,38))\n",
        "#labelling the bars\n",
        "for p in ax1.patches:\n",
        "    ax1.annotate(p.get_height(),(p.get_x()+p.get_width()/2,p.get_height()), color=\"black\", ha=\"left\", va ='bottom',fontsize=12)\n",
        "#Plotting the yearly averages similarly for PM2.5\n",
        "dfp.plot(kind='bar',figsize=(20,5),ax=ax2)\n",
        "ax2.set_title(\"PM2.5\", fontsize=18)\n",
        "ax2.hlines(40, -.9,15, linestyles=\"dashed\")\n",
        "ax2.annotate('Annual avg. standard for PM2.5',(-0.5,48))\n",
        "ax2.legend().set_visible(False)\n",
        "for p in ax2.patches:\n",
        "    ax2.annotate(p.get_height(),(p.get_x()+p.get_width()/2,p.get_height()), color=\"black\", ha=\"center\", va ='bottom',fontsize=12)\n",
        "#Plotting the yearly averages similarly for SO2\n",
        "dfs.plot(kind='bar',figsize=(20,5),ax=ax3)\n",
        "ax3.hlines(50, -.9,15, linestyles=\"dashed\")\n",
        "ax3.annotate('Annual avg. standard for SO2',(-0.5,48))\n",
        "ax3.set_title(\"SO2\", fontsize=18)\n",
        "ax3.legend().set_visible(False)\n",
        "for p in ax3.patches:\n",
        "    ax3.annotate(p.get_height(),(p.get_x()+p.get_width()/2,p.get_height()), color=\"black\", ha=\"center\", va ='bottom',fontsize=12)"
      ],
      "execution_count": null,
      "outputs": []
    },
    {
      "cell_type": "markdown",
      "metadata": {
        "id": "BTMYK3zYa4sI"
      },
      "source": [
        "Наблюдение: очевидно, что среднегодовые нормы превышаются только для PM2,5.\n",
        "Для NO2 наблюдаемые значения относительно близки к предписанному стандарту. Для SO2 наблюдаемые значения намного меньше годовой нормы. Поэтому для дальнейшего анализа учитываются только эти два загрязнителя (NO2 и PM2,5)"
      ]
    },
    {
      "cell_type": "markdown",
      "metadata": {
        "id": "pJFqYstCa9Ui"
      },
      "source": [
        "**Часть 2 анализа качества воздуха: график количества дней в году, когда 24 часа в сутки превышены нормы для PM2,5 и NO2**\n",
        "\n",
        "В то время как на этапе 1 анализа указываются загрязнители, вызывающие озабоченность с точки зрения управления качеством воздуха. и планирование вмешательств, на шаге 2, на каждый год, мы показываем, как различные уровни\n",
        "превышение нормативов для суточных значений распределяется. В случае PM2,5 мы\n",
        "нанесите на график количество дней в году, для которых наблюдаемые значения попадают в следующие диапазоны.\n",
        "  а. От 0 до 60 мкг / м3\n",
        "  б. От 61 до 120 мкг / м3\n",
        "  c. От 121 до 180 мкг / м3\n",
        "  d. > 180 мкг / м3\n",
        "Чтобы построить эти данные, нам нужно создать объекты DataFrame для каждого года с 2016 по 2019 год. фиксирование количества дней, в течение которых уровни PM2,5 падали в каждом из этих интервалов, как показано В следующих:"
      ]
    },
    {
      "cell_type": "code",
      "metadata": {
        "id": "LGuMxqscbMuO"
      },
      "source": [
        "#Creating intervals for 2016 with the number of days with PM2.5  concentration falling in that interval\n",
        "a2=aq2016[(aq2016['PM2.5']<=60)]['PM2.5'].count()\n",
        "b2=aq2016[((aq2016['PM2.5']>60) & (aq2016['PM2.5']<=120))]['PM2.5'].count()\n",
        "c2=aq2016[((aq2016['PM2.5']>120) & (aq2016['PM2.5']<=180))]['PM2.5'].count()\n",
        "d2=aq2016[(aq2016['PM2.5']>180)]['PM2.5'].count()\n",
        "dfpb2016=pd.DataFrame({'year':'2016','pm levels':['<60','between 61 and 120','between 121 and 180','greater than 180'],'number of critical days':[a2,b2,c2,d2]})\n",
        "#Creating intervals for 2017 with the number of days with PM2.5  concentration falling in each interval\n",
        "a3=aq2017[(aq2017['PM2.5']<=60)]['PM2.5'].count()\n",
        "b3=aq2017[((aq2017['PM2.5']>60) & (aq2017['PM2.5']<=120))]['PM2.5'].count()\n",
        "c3=aq2017[((aq2017['PM2.5']>120) & (aq2017['PM2.5']<=180))]['PM2.5'].count()\n",
        "d3=aq2017[(aq2017['PM2.5']>180)]['PM2.5'].count()\n",
        "dfpb2017=pd.DataFrame({'year':'2017','pm levels':['<60','between 61 and 120','between 121 and 180','greater than 180'],'number of critical days':[a3,b3,c3,d3]})\n",
        "#Creating intervals for 2018 with the number of days with PM2.5  concentration falling in each interval\n",
        "a4=aq2018[(aq2018['PM2.5']<=60)]['PM2.5'].count()\n",
        "b4=aq2018[((aq2018['PM2.5']>60) & (aq2018['PM2.5']<=120))]['PM2.5'].count()\n",
        "c4=aq2018[((aq2018['PM2.5']>120) & (aq2018['PM2.5']<=180))]['PM2.5'].count()\n",
        "d4=aq2018[(aq2018['PM2.5']>180)]['PM2.5'].count()\n",
        "dfpb2018=pd.DataFrame({'year':'2018','pm levels':['<60','between 61 and 120','between 121 and 180','greater than 180'],'number of critical days':[a4,b4,c4,d4]})\n",
        "#Creating intervals for 2019 with the number of days with PM2.5 concentration falling in each interval\n",
        "a5=aq2019[(aq2019['PM2.5']<=60)]['PM2.5'].count()\n",
        "b5=aq2019[((aq2019['PM2.5']>60) & (aq2019['PM2.5']<=120))]['PM2.5'].count()\n",
        "c5=aq2019[((aq2019['PM2.5']>120) & (aq2019['PM2.5']<=180))]['PM2.5'].count()\n",
        "d5=aq2019[(aq2019['PM2.5']>180)]['PM2.5'].count()\n",
        "dfpb2019=pd.DataFrame({'year':'2019','pm levels':['<60','between 61 and 120','between 121 and 180','greater than 180'],'number of critical days':[a5,b5,c5,d5]})"
      ],
      "execution_count": null,
      "outputs": []
    },
    {
      "cell_type": "markdown",
      "metadata": {
        "id": "O0N6He5xb0Ba"
      },
      "source": [
        "Теперь мы строим столбчатую диаграмму с накоплением для каждого года с этими интервалами. Для этого нам нужно создать сводные таблицы следующим образом:"
      ]
    },
    {
      "cell_type": "code",
      "metadata": {
        "id": "o4LPcRe9b1zj"
      },
      "source": [
        "dfpivot2019=dfpb2019.pivot(index='year',columns='pm levels',values='number of critical days') #pivot сводная таблица\n",
        "dfpivot2018=dfpb2018.pivot(index='year',columns='pm levels',values='number of critical days')\n",
        "dfpivot2017=dfpb2017.pivot(index='year',columns='pm levels',values='number of critical days')\n",
        "dfpivot2016=dfpb2016.pivot(index='year',columns='pm levels',values='number of critical days')"
      ],
      "execution_count": null,
      "outputs": []
    },
    {
      "cell_type": "code",
      "metadata": {
        "id": "d6ugBs5Vb_Pc"
      },
      "source": [
        "#Creating a figure with 4 sub-plots, one for each year from 2016-19\n",
        "fig,(ax1,ax2,ax3,ax4)=plt.subplots(1,4)\n",
        "fig.suptitle(\"Number of days per year in each interval\")\n",
        "cmp=plt.cm.get_cmap('RdBu')\n",
        "#Plotting stacked horizontal bar charts for each year to represent intervals of PM2.5 levels\n",
        "dfpivot2019.loc[:,['<60','between 61 and 120','between 121 and 180', 'greater than 180']].plot.barh(stacked=True, cmap=cmp,figsize=(15,5),ax=ax1)\n",
        "dfpivot2018.loc[:,['<60','between 61 and 120','between 121 and 180','greater than 180']].plot.barh(stacked=True, cmap=cmp,figsize=(15,5),ax=ax2)\n",
        "dfpivot2017.loc[:,['<60','between 61 and 120','between 121 and 180','greater than 180']].plot.barh(stacked=True, cmap=cmp, figsize=(15,5),ax=ax3)\n",
        "dfpivot2016.loc[:,['<60','between 61 and 120','between 121 and 180','greater than 180']].plot.barh(stacked=True, cmap=cmp, figsize=(15,5),ax=ax4)\n",
        "#Setting the properties - legend, yaxis and title\n",
        "ax1.legend().set_visible(False)\n",
        "ax2.legend().set_visible(False)\n",
        "ax3.legend().set_visible(False)\n",
        "ax4.legend(loc='center left',bbox_to_anchor=(1,0.5))\n",
        "ax1.get_yaxis().set_visible(False)\n",
        "ax2.get_yaxis().set_visible(False)\n",
        "ax3.get_yaxis().set_visible(False)\n",
        "ax4.get_yaxis().set_visible(False)\n",
        "ax1.set_title('2019')\n",
        "ax2.set_title('2018')\n",
        "ax3.set_title('2017')\n",
        "ax4.set_title('2016')"
      ],
      "execution_count": null,
      "outputs": []
    },
    {
      "cell_type": "markdown",
      "metadata": {
        "id": "gzKBGYkScUlI"
      },
      "source": [
        "Наблюдение:\n",
        "Видно, что значения PM2,5 выше 180 мкг/м3 наблюдаются каждый год, и поэтому\n",
        "Начнем с того, что ограничения на основные виды деятельности, загрязняющие окружающую среду, включая движение транспорта, могут быть ограничены\n",
        "в эту категорию. Интервальное построение NO2 Аналогичным образом, для NO2 количество дней в году, в течение которых контролируемые значения превышают 24-часовой стандарт 80 мкг / м3 нанесен на график (рис. 8-6). Сначала мы создаем фрейм данных для NO2, который фиксирует количество дней в году с значения выше 80 мкг / м3, как показано ниже."
      ]
    },
    {
      "cell_type": "code",
      "metadata": {
        "id": "48fUuSJlcb5h"
      },
      "source": [
        "a=aq2015[(aq2015['NO2']>=80)]['NO2'].count()\n",
        "b=aq2016[(aq2016['NO2']>=80)]['NO2'].count()\n",
        "c=aq2017[(aq2017['NO2']>=80)]['NO2'].count()\n",
        "d=aq2018[(aq2018['NO2']>=80)]['NO2'].count()\n",
        "e=aq2019[(aq2019['NO2']>=80)]['NO2'].count()\n",
        "\n",
        "dfno=pd.DataFrame({'years':['2015','2016','2017','2018','2019'],'number of days with NO2>80 μg':[a,b,c,d,e]})\n",
        "ax=dfno.plot(kind='bar',figsize=(10,5))\n",
        "\n",
        "ax.set_xticklabels(['2015','2016','2017','2018','2019'])\n",
        "ax.set_title(\"NO2 number of days in each year with critical levels of concentration\")\n",
        "\n",
        "for p in ax.patches:  \n",
        "  ax.annotate(p.get_height(),(p.get_x()+p.get_width()/2,p.get_height()), ha=\"center\", va ='bottom')\n"
      ],
      "execution_count": null,
      "outputs": []
    },
    {
      "cell_type": "markdown",
      "metadata": {
        "id": "5doanbfKcpn9"
      },
      "source": [
        "Вывод: наблюдаемые суточные значения NO2 превышаются только в течение трех из пяти лет.\n",
        "Поскольку наблюдаемые суточные значения NO2 превышают стандартные лишь незначительно и только в течение нескольких дней, следующий шаг ограничен дальнейшим анализом PM2,5.\n",
        "Часть 3 анализа качества воздуха: Определение месяцев, в которые суточные значения PM2,5 превышают критические уровни в большинстве дней Перед введением ограничений на такие виды деятельности, как движение транспортных средств и строительство, которые вносят значительный вклад в концентрации PM2,5 в окружающей среде, необходимо: предоставлять\n",
        "достаточное уведомление, чтобы избежать неудобств для широкой публики. Следовательно, для суточных значений PM2,5, значительно превышающих 180 мкг / м3, мы наносим график изменения во времени по годам в течение каждого месяца в году. Для этого для каждого из двенадцати месяцев мы фиксируем количество дней с критическим загрязнением воздуха каждый год с суточными значениями PM2,5, превышающими 180 мкг / м3.\n",
        "Сначала мы создаем кадры данных для каждого года с количеством дней в каждом месяце, когда значения PM2,5 превышают 180 мкг / м3, как показано ниже."
      ]
    },
    {
      "cell_type": "code",
      "metadata": {
        "id": "cxG__5PDc34f"
      },
      "source": [
        "#Creating a dataframe for 2016 with the number of days in each month where the PM2.5 concentration is >180\n",
        "aq2016['Month']=pd.DatetimeIndex(aq2016['From Date']).month #extracting the month\n",
        "aq2016['condition']=(aq2016['PM2.5']>=180 ) # creating a boolean columnthat is True when the PM2.5 value is greater than 180 and false when it is less than 180\n",
        "aq2016['condition']=aq2016['condition'].replace({False:np.nan}) # replacing the False values with null values, so that the count method in the next statement only counts the True values or the values corresponding to PM 2.5>180\n",
        "selection1=aq2016.groupby('Month')['condition'].count() #Using the groupby method to calculate the number of days for each month that satisfy the condition(PM2.5>180)\n",
        "#Repeating the above process for 2017, creating a dataframe with the number of days in each month where the PM2.5 concentration is >180\n",
        "aq2017['Month']=pd.DatetimeIndex(aq2017['From Date']).month\n",
        "aq2017['condition']=(aq2017['PM2.5']>=180 )\n",
        "aq2017['condition']=aq2017['condition'].replace({False:np.nan})\n",
        "selection2=aq2017.groupby('Month')['condition'].count()\n",
        "#Repeating the above process for 2018, creating a dataframe with the number of days in each month where the PM2.5 concentration is >180\n",
        "aq2018['Month']=pd.DatetimeIndex(aq2018['From Date']).month\n",
        "aq2018['condition']=(aq2018['PM2.5']>=180 )\n",
        "aq2018['condition']=aq2018['condition'].replace({False:np.nan})\n",
        "selection3=aq2018.groupby('Month')['condition'].count()\n",
        "#Repeating the above process for 2019, creating a dataframe with the number of days in each month where the PM2.5 concentration is >180\n",
        "aq2019['Month']=pd.DatetimeIndex(aq2019['From Date']).month\n",
        "aq2019['condition']=(aq2019['PM2.5']>=180 )\n",
        "aq2019['condition']=aq2019['condition'].replace({False:np.nan})\n",
        "selection4=aq2019.groupby('Month')['condition'].count()"
      ],
      "execution_count": null,
      "outputs": []
    },
    {
      "cell_type": "markdown",
      "metadata": {
        "id": "csSqFUg1dgXy"
      },
      "source": [
        "Теперь мы объединяем все объекты DataFrame в один объект (который мы назовем\n",
        "‘Selectionc’), чтобы получить сводную картину количества дней в каждом месяце, когда PM2,5> 180 мкг / м3, как показано ниже."
      ]
    },
    {
      "cell_type": "code",
      "metadata": {
        "id": "abXd_HA1diZB"
      },
      "source": [
        "selectionc=pd.concat([selection1,selection2,selection3,selection4],axis=1)\n",
        "selectionc.columns=['2016','2017','2018','2019']"
      ],
      "execution_count": null,
      "outputs": []
    },
    {
      "cell_type": "markdown",
      "metadata": {
        "id": "Os5-n8fddujZ"
      },
      "source": [
        "Мы можем наблюдать из этой таблицы, что месяц 1 (январь), месяц 11 (ноябрь) и\n",
        "12-й месяц (декабрь) - самые критические месяцы за все четыре года, так как эти месяцы было наибольшее количество дней с PM2,5> 180 мкг / м3.\n",
        "Теперь, когда у нас есть все данные, давайте визуализируем критические дни для PM2,5. (Рисунок 8-7), используя следующий код."
      ]
    },
    {
      "cell_type": "code",
      "metadata": {
        "id": "6PkDcOs5dyei"
      },
      "source": [
        "#creating a bar chart representing number of days with critical levels of PM2.5(>180) concentrations\n",
        "ax=selectionc.plot(kind='bar',figsize=(20,7),width=0.7,align='center',colormap='Paired')\n",
        "bars = ax.patches\n",
        "#creating patterns to represent each year\n",
        "patterns =('-','x','/','O')\n",
        "#ax.legend(loc='upper left', borderpad=1.5, labelspacing=1.5)\n",
        "ax.legend((patterns),('2016','2017','2018','2019'))\n",
        "hatches = [p for p in patterns for i in range(len(selectionc))]\n",
        "#setting a pattern for each bar\n",
        "for bar, hatch in zip(bars, hatches):\n",
        "    bar.set_hatch(hatch)\n",
        "#Labelling the months, the X axis and Y axis\n",
        "ax.set_xticklabels(['Jan','Feb','Mar','Apr','May','June','July','Aug','Sept','Oct','Nov','Dec'],rotation=30)\n",
        "ax.set_xlabel('Month',fontsize=12)\n",
        "ax.set_ylabel('Number of days with critical levels of PM2.5',fontsize=12)\n",
        "#Labelling the bars\n",
        "for i in ax.patches:\n",
        "    ax.text(i.get_x()-.003, i.get_height()+.3,\n",
        "            round(i.get_height(),2), fontsize=10,\n",
        "                color='dimgrey')\n",
        "ax.legend()\n",
        "ax.set_title(\"Number of days with critical levels of PM2.5 in each month of years 2016-19\")"
      ],
      "execution_count": null,
      "outputs": []
    },
    {
      "cell_type": "markdown",
      "metadata": {
        "id": "ZOKxSsYteR2O"
      },
      "source": [
        "# **Шаг 4: построение выводов на основе анализа и визуализаций**"
      ]
    },
    {
      "cell_type": "markdown",
      "metadata": {
        "id": "DLcxILWoeUMg"
      },
      "source": [
        "Из предыдущего графика видно, что большинство критически загрязненных дней приходится на Январь, ноябрь и декабрь. Следовательно, исходя из среднесуточных концентраций PM2,5 зафиксировано за последние четыре года, ограничения движения автотранспорта, строительство деятельность, использование дизельных насосных агрегатов, отклонение движения транспорта, прибывающего в Дели из соседних штатов, и другие аналогичные действия, вероятно, будут введены в январе, ноябре и Декабрь. Чтобы принять такие решения для Дели в целом, анализ данных из других\n",
        "также потребуются станции мониторинга. Распространение данных и анализ\n",
        "предыдущие строки помогут людям заранее подготовиться к ограничениям, а также\n",
        "оцените обоснование таких мер.\n",
        "Подход, продемонстрированный ранее, с использованием анализа данных в качестве инструмента, помогающего в управление качеством воздуха, использует данные, записанные на одной станции мониторинга, расположенной в\n",
        "Технологический институт Нетаджи Субхаса (NSIT), Дели. Методология могла быть осуществлена вперед по следующим строкам.\n",
        " а. Повторите предыдущий шаг для NO2, чтобы показать критические месяцы, в которые приходится на большую часть дней с зарегистрированными значениями NO2, превышающими 24-часовые стандарты. Выполнение этого упражнения снова поможет определить месяцев, когда уровни загрязнения вызывают озабоченность по обоим параметрам, PM2.5 и NO2, и план.\n",
        " б. Повторите анализ, проведенный с данными о качестве воздуха.станции мониторинга НСИТ с использованием аналогичных данных из другие станции, чтобы интервенции для Дели в целом могли быть планируется."
      ]
    },
    {
      "cell_type": "markdown",
      "metadata": {
        "id": "CALvIsmjysWD"
      },
      "source": [
        "# **Case study 3: Worldwide COVID-19 cases – an analysis**"
      ]
    },
    {
      "cell_type": "markdown",
      "metadata": {
        "id": "w9hXHwcYyzKw"
      },
      "source": [
        "Вопросы, на которые необходимо ответить с помощью анализа, включают:\n",
        "  1. В каких странах самый низкий уровень смертности, максимум случаев и больше всего погибших?\n",
        "  2. Какова месячная тенденция по количеству случаев и погибших с начала пандемии?\n",
        "  3. В некоторых странах были введены ограничения, чтобы помочь сгладить кривую. Помогла ли эта мера снизить количество заболевших?"
      ]
    },
    {
      "cell_type": "markdown",
      "metadata": {
        "id": "RZxtFCVhzklf"
      },
      "source": [
        "**Шаг 1.** Импорт данных и изучение характеристик набора данных"
      ]
    },
    {
      "cell_type": "code",
      "metadata": {
        "id": "52gC3yu5ztdC"
      },
      "source": [
        "from google.colab import files\n",
        "uploaded = files.upload()"
      ],
      "execution_count": null,
      "outputs": []
    },
    {
      "cell_type": "markdown",
      "metadata": {
        "id": "I2FPuP1fz4de"
      },
      "source": [
        "Прочтите набор данных и изучите первые пять строк (используя метод head) с помощью файла ***pd.read_excel***:"
      ]
    },
    {
      "cell_type": "code",
      "metadata": {
        "id": "IjPpWrzfz-ta"
      },
      "source": [
        "df=pd.read_excel('COVID-19-geographic-disbtribution-worldwide-2020-06-29.xlsx')\n",
        "df.head()"
      ],
      "execution_count": null,
      "outputs": []
    },
    {
      "cell_type": "markdown",
      "metadata": {
        "id": "u9E-6Axa0PMK"
      },
      "source": [
        "Получите информацию о типе данных каждого столбца и количестве ненулевых значений в каждом столбце (используя метод **info**)."
      ]
    },
    {
      "cell_type": "code",
      "metadata": {
        "id": "bRPaDWf-0S15"
      },
      "source": [
        "df.info()"
      ],
      "execution_count": null,
      "outputs": []
    },
    {
      "cell_type": "markdown",
      "metadata": {
        "id": "GcYE3Ql00d-J"
      },
      "source": [
        "Получите сводную статистику для каждого столбца (используя метод описания) и получите значения **count, min, max, стандартное отклонение и процентиль**:"
      ]
    },
    {
      "cell_type": "code",
      "metadata": {
        "id": "rVawwQz50kiC"
      },
      "source": [
        "df.describe()"
      ],
      "execution_count": null,
      "outputs": []
    },
    {
      "cell_type": "markdown",
      "metadata": {
        "id": "xY3SBU6v0rS2"
      },
      "source": [
        "# **Шаг 2. Обработка данных**"
      ]
    },
    {
      "cell_type": "markdown",
      "metadata": {
        "id": "LMGzRoLH0tVQ"
      },
      "source": [
        "На этом этапе выполним:\n",
        "• Проверку: правильно ли определены типы данных столбцов. Если нет, изменить типы данных: из вывода информационного метода мы видим, что все типы данных столбцов были правильно идентифицированы.\n",
        "• При необходимости переименовать столбцы: в следующем коде переименовываем столбцы DataFrame."
      ]
    },
    {
      "cell_type": "code",
      "metadata": {
        "id": "plwlBagw1DOC"
      },
      "source": [
        "df.columns=['date', 'day', 'month', 'year', 'cases', 'deaths', 'country', 'old_country_code', 'country_code', 'population', 'continent']"
      ],
      "execution_count": null,
      "outputs": []
    },
    {
      "cell_type": "markdown",
      "metadata": {
        "id": "90sRWADq1PeT"
      },
      "source": [
        "Отбросьте ненужные столбцы или строки:\n",
        "• Мы видим, что столбец кода страны присутствует дважды (с двумя разными именами: **'old_country_code'** и **'country_code'**) в DataFrame, поэтому мы удаляем один из столбцов («**old_country_code**»):"
      ]
    },
    {
      "cell_type": "code",
      "metadata": {
        "id": "PJb_3QJ-1Uoj"
      },
      "source": [
        "df.drop(['old_country_code'],axis=1,inplace=True)"
      ],
      "execution_count": null,
      "outputs": []
    },
    {
      "cell_type": "markdown",
      "metadata": {
        "id": "K4j5ypFF1ff_"
      },
      "source": [
        "Удалить все лишние данные, которые не добавляют никакой ценности:\n",
        "В этом DataFrame нет пробелов, специальных символов или любых других посторонних символов. Мы видим, что есть данные только за один день декабря 2019 года; поэтому мы удаляем данные за этот месяц и создаем новый DataFrame (df1) на оставшиеся 11 месяцев."
      ]
    },
    {
      "cell_type": "code",
      "metadata": {
        "id": "7K8QjXm41Xos"
      },
      "source": [
        "df1=df[df.month!=12]"
      ],
      "execution_count": null,
      "outputs": []
    },
    {
      "cell_type": "markdown",
      "metadata": {
        "id": "mrxv4Ip21uj5"
      },
      "source": [
        "Проверьте, есть ли какие-либо нулевые значения, используя метод **isna** или **isnull**, и примените соответствующие методы для работы с ними, если они есть:\n",
        "Расчет процента нулевых значений:"
      ]
    },
    {
      "cell_type": "code",
      "metadata": {
        "id": "cPlMfTQV1t0b"
      },
      "source": [
        "df1.isna().sum().sum()/len(df1)\n",
        "#число отличное от нуля, то в датафрейме есть нулевые значения"
      ],
      "execution_count": null,
      "outputs": []
    },
    {
      "cell_type": "markdown",
      "metadata": {
        "id": "R33VJ23l1_7D"
      },
      "source": [
        "Поскольку процент нулевых значений меньше **1%**, мы отбрасываем нулевые значения на следующем шаге."
      ]
    },
    {
      "cell_type": "code",
      "metadata": {
        "id": "VIqEdTkY2CP9"
      },
      "source": [
        " df1.dropna(inplace=True)"
      ],
      "execution_count": null,
      "outputs": []
    },
    {
      "cell_type": "code",
      "metadata": {
        "id": "hV-8bYPn2Qrm"
      },
      "source": [
        "df1"
      ],
      "execution_count": null,
      "outputs": []
    },
    {
      "cell_type": "code",
      "metadata": {
        "id": "V2hWt1UC2XqB"
      },
      "source": [
        "df1.isna().sum().sum()/len(df1)"
      ],
      "execution_count": null,
      "outputs": []
    },
    {
      "cell_type": "markdown",
      "metadata": {
        "id": "lwoaeuPX2c-5"
      },
      "source": [
        "**Агрегируем данные**,\n",
        "\n",
        "если данные находятся в этом формате формате: данные в этом DataFrame не в агрегированном формате, и мы преобразуем их в этот формат с помощью метода **groupby** на этом этапе. Мы можем группировать по странам, континентам или по дате. Сгруппируем по названию страны."
      ]
    },
    {
      "cell_type": "code",
      "metadata": {
        "id": "Koeh7d0j2xFI"
      },
      "source": [
        "df_by_country=df.groupby('country')['cases', 'deaths'].sum()\n",
        "df_by_country"
      ],
      "execution_count": null,
      "outputs": []
    },
    {
      "cell_type": "markdown",
      "metadata": {
        "id": "61HxZ_Fi27Nv"
      },
      "source": [
        "Предыдущие выходные данные показывают консолидированную картину количества случаев заболевания и смертей по каждой стране."
      ]
    },
    {
      "cell_type": "markdown",
      "metadata": {
        "id": "HjS9gpoa3B2Y"
      },
      "source": [
        "Давайте добавим еще один столбец в этот агрегированный DataFrame - коэффициент смертности, который представляет собой отношение количества смертей к количеству случаев."
      ]
    },
    {
      "cell_type": "code",
      "metadata": {
        "id": "4PjR668A3J48"
      },
      "source": [
        "df_by_country['mortality_rate']=df_by_country['deaths']/df_by_country['cases']\n",
        "df_by_country"
      ],
      "execution_count": null,
      "outputs": []
    },
    {
      "cell_type": "markdown",
      "metadata": {
        "id": "gqecQQVm3dEK"
      },
      "source": [
        "# **Шаг 3: Визуализация данных**"
      ]
    },
    {
      "cell_type": "markdown",
      "metadata": {
        "id": "ygxvFBJn3m27"
      },
      "source": [
        "В  первой визуализации этого исследования используем агрегированные данные в DataFrame, «**df_by_country**», для отображения двадцати стран с наибольшим уровнем смертности. "
      ]
    },
    {
      "cell_type": "code",
      "metadata": {
        "id": "mNuNixYa3z4z"
      },
      "source": [
        "plt.figure(figsize=(15,10))\n",
        "ax=df_by_country['mortality_rate'].sort_values(ascending=False).head(20).plot(kind='bar')\n",
        "ax.set_xticklabels(ax.get_xticklabels(), rotation=45, ha=\"right\")\n",
        "for p in ax.patches:\n",
        "  ax.annotate(p.get_height().round(2),(p.get_x()+p.get_width()/2,p.get_height()),ha='center',va='bottom')\n",
        "ax.set_xlabel(\"Country\")\n",
        "ax.set_ylabel(\"Mortality rate\")\n",
        "ax.set_title(\"countries with highest mortality rates\")"
      ],
      "execution_count": null,
      "outputs": []
    },
    {
      "cell_type": "markdown",
      "metadata": {
        "id": "9pzqvNTf4Hzm"
      },
      "source": [
        "Во второй визуализации мы отображаем десять стран с наибольшим количеством случаев COVID-19, используя круговую диаграмму, как показано на рисунке ниже."
      ]
    },
    {
      "cell_type": "code",
      "metadata": {
        "id": "D8bEJ_PD4LlR"
      },
      "source": [
        "df_cases=df_by_country['cases'].sort_values(ascending=False)\n",
        "ax=df_cases.head(10).plot(kind='pie',autopct='%.2f%%',labels=df_cases.index,figsize=(12,8))\n",
        "ax.set_title(\"Top 10 countries by case load\")"
      ],
      "execution_count": null,
      "outputs": []
    },
    {
      "cell_type": "markdown",
      "metadata": {
        "id": "7aLkEFLf4XbY"
      },
      "source": [
        "В следующей визуализации с помощью гистограммы выясняем пять стран, которые больше всего пострадали с точки зрения человеческих потерь в результате пандемии COVID-19."
      ]
    },
    {
      "cell_type": "code",
      "metadata": {
        "id": "dO_1oNro4ali"
      },
      "source": [
        "plt.figure(figsize=(15,10))\n",
        "ax=df_by_country['mortality_rate'].sort_values(ascending=False).head(5).plot(kind='bar')\n",
        "ax.set_xticklabels(ax.get_xticklabels(), rotation=45, ha=\"right\")\n",
        "for p in ax.patches:\n",
        "  ax.annotate(p.get_height().round(2),(p.get_x()+p.get_width()/2,p.get_height()),ha='center',va='bottom')\n",
        "ax.set_xlabel(\"Country\")\n",
        "ax.set_ylabel(\"Mortality rate\")\n",
        "ax.set_title(\"countries with highest mortality rates\")"
      ],
      "execution_count": null,
      "outputs": []
    },
    {
      "cell_type": "markdown",
      "metadata": {
        "id": "1Ta8cApP4okw"
      },
      "source": [
        "Теперь  построим линейные графики, чтобы увидеть ежемесячный тренд числа случаев COVID-19 и смертельных исходов.\n",
        "Чтобы построить линейные графики, мы сначала агрегируем данные по месяцам, а затем строим два линейных графика рядом, показывая количество случаев заболевания и смертей, как показано на рисунке ниже."
      ]
    },
    {
      "cell_type": "code",
      "metadata": {
        "id": "4q1rmP9p4u7g"
      },
      "source": [
        "#Ваш код"
      ],
      "execution_count": null,
      "outputs": []
    },
    {
      "cell_type": "markdown",
      "metadata": {
        "id": "h1mzZcyE44Lb"
      },
      "source": [
        "Многие страны ввели локдаун, чтобы остановить волну увеличения числа случаев заболевания. Теперь мы посмотрим на четыре страны - Индию, Великобританию, Италию и Германию - где в марте были введены ограничения, чтобы увидеть, оказала ли эта мера желаемый эффект.\n",
        "Сначала мы создаем объекты DataFrame для каждой из этих стран с агрегированными данными по месяцам."
      ]
    },
    {
      "cell_type": "code",
      "metadata": {
        "id": "FfXGpdHa5JTC"
      },
      "source": [
        "#Ваш код"
      ],
      "execution_count": null,
      "outputs": []
    },
    {
      "cell_type": "markdown",
      "metadata": {
        "id": "-UieVT9A5WX2"
      },
      "source": [
        "\n",
        "Теперь  используем объекты DataFrame, созданные на предыдущих шагах, для построения линейных графиков для этих стран, чтобы увидеть количество случаев в разные месяцы в 2020 году, как показано на рисунке ниже. "
      ]
    },
    {
      "cell_type": "code",
      "metadata": {
        "id": "fcMk8dF65YeP"
      },
      "source": [
        "#Ваш код"
      ],
      "execution_count": null,
      "outputs": []
    },
    {
      "cell_type": "markdown",
      "metadata": {
        "id": "Vifh8_rN5nH8"
      },
      "source": [
        "# **Шаг 4:** Построение выводов на основе анализа и визуализаций"
      ]
    },
    {
      "cell_type": "markdown",
      "metadata": {
        "id": "wwljMUKK5qOX"
      },
      "source": [
        "Количество случаев: наибольшее количество случаев зарегистрировано в США, Бразилии, России, Индии и Великобритании.\n",
        "• Количество смертей: США, Бразилия, Великобритания, Италия и Франция имели самые высокие показатели смертности. Уровень смертности: Йемен, Сен-Мартен, Франция, Бельгия и Италия имели самые высокие показатели смертности.\n",
        "• Тенденции:\n",
        "• Общее количество заболевших неуклонно растет, в то время как общее количество смертей (смертей) снизилось после Апреля.\n",
        "• Влияние локдауна: мы проанализировали четыре страны - Индию, Великобританию, Германию и Италию - где в марте были введенлокдаун. За исключением Индии, во всех этих странах наблюдалось общее снижение числа случаев после введения карантина. В Великобритании и Германии число случаев заболевания сначала увеличилось (на ранней стадии закрытия стран), но после этого всплеска стало снижаться."
      ]
    },
    {
      "cell_type": "markdown",
      "metadata": {
        "id": "y9fdmE336YKc"
      },
      "source": [
        "# **Задание 1**"
      ]
    },
    {
      "cell_type": "markdown",
      "metadata": {
        "id": "41SshYaS6pH6"
      },
      "source": [
        "Рассмотрим первую таблицу на следующей веб-странице: https://en.wikipedia.org/wiki/Climate_of_South_Africa. Она содержит данные о максимальных и минимальных температурах (в градусах Цельсия) в различных городах Южной Африки летом и зимой.\n",
        "\n",
        "1.   Используйте соответствующий метод из модуля запросов, чтобы отправить запрос на получение по этому URL-адресу и сохранить данные из первой таблицы на этой странице в фрейме данных Pandas.\n",
        "\n",
        "2.   Переименуйте столбцы следующим образом:  **'City', 'Summer(max)', \n",
        "'Summer(min)', 'Winter(max)', 'Winter(min)'** .\n",
        "\n",
        "3.   Замените отрицательное значение в первой строке столбца ‘Winter(min)’ на 0 и преобразуйте тип данных этого столбца в int64.\n",
        "\n",
        "4.   Постройте график для отображения самых жарких городов в Южной Африке летом (используйте столбец Summer(max)).\n",
        "\n",
        "5.   Постройте график для отображения самых холодных городов в Южной Африке зимой (используйте столбец Winter(min)).\n",
        "\n"
      ]
    },
    {
      "cell_type": "code",
      "metadata": {
        "id": "b8pK8PE2LmgC",
        "colab": {
          "base_uri": "https://localhost:8080/",
          "height": 407
        },
        "outputId": "7a635b50-e81b-42df-c7dc-e9d6a1572d6e"
      },
      "source": [
        "import requests #позволяет делать запрос к странице\n",
        "import pandas as pd\n",
        "import seaborn as sns #рисовалка\n",
        "import matplotlib.pyplot as plt\n",
        "url='https://en.wikipedia.org/wiki/Climate_of_South_Africa'\n",
        "req=requests.get(url)\n",
        "data=pd.read_html(req.text)\n",
        "df=data[0] #номер таблицы с сайта\n",
        "df.columns = [ 'City', 'Summer(max)', 'Summer(min)', 'Winter(max)', 'Winter(min)']\n",
        "df.loc[0, 'Winter(min)']=0\n",
        "df['Winter(min)']=df['Winter(min)']\n",
        "plt.figure(figsize=(10,5))\n",
        "ax=sns.barplot(x='City',y='Summer(max)',data=df)\n",
        "ax.set_xticklabels(labels=df['City'],rotation=75)\n",
        "for p in ax.patches:\n",
        "  ax.annotate(p.get_height(),(p.get_x()+p.get_width()/2,p.get_height()),ha='center',va='bottom')\n",
        "#ax= df2.plot(kind='line',figsize=(10,5))\n"
      ],
      "execution_count": null,
      "outputs": [
        {
          "output_type": "display_data",
          "data": {
            "image/png": "[encoded data removed]",
            "text/plain": [
              "<Figure size 720x360 with 1 Axes>"
            ]
          },
          "metadata": {
            "tags": [],
            "needs_background": "light"
          }
        }
      ]
    },
    {
      "cell_type": "code",
      "metadata": {
        "id": "OJQOoIRKNlUZ",
        "colab": {
          "base_uri": "https://localhost:8080/",
          "height": 407
        },
        "outputId": "67fd2de4-749a-43cd-b429-cd7eb5bc37f3"
      },
      "source": [
        "plt.figure(figsize=(10,5))\n",
        "ax=sns.barplot(x='City',y='Winter(max)',data=df)\n",
        "ax.set_xticklabels(labels=df['City'],rotation=75)\n",
        "for p in ax.patches:\n",
        "  ax.annotate(p.get_height(),(p.get_x()+p.get_width()/2,p.get_height()),ha='center',va='bottom')"
      ],
      "execution_count": null,
      "outputs": [
        {
          "output_type": "display_data",
          "data": {
            "image/png": "[encoded data removed]",
            "text/plain": [
              "<Figure size 720x360 with 1 Axes>"
            ]
          },
          "metadata": {
            "tags": [],
            "needs_background": "light"
          }
        }
      ]
    },
    {
      "cell_type": "markdown",
      "metadata": {
        "id": "5upl3CgZ7m-x"
      },
      "source": [
        "# **Задание 2**"
      ]
    },
    {
      "cell_type": "markdown",
      "metadata": {
        "id": "9Zoz9Pvb7rb4"
      },
      "source": [
        "Недельная заработная плата десяти сотрудников (с инициалами A – J) составляет: 100, 120, 80, 155, 222, 400, 199, 403, 345, 290. Сохраните недельную заработную плату в DataFrame.\n",
        "\n",
        "• Постройте гистограмму для отображения заработной платы в убывающем порядке.\n",
        "\n",
        "• Обозначьте каждую полосу на гистограммах с помощью метода аннотации."
      ]
    },
    {
      "cell_type": "code",
      "metadata": {
        "colab": {
          "base_uri": "https://localhost:8080/",
          "height": 343
        },
        "id": "VaoPd9S1aMVV",
        "outputId": "3507f9c0-66a6-409b-fa3f-7011b5545d50"
      },
      "source": [
        "data = {'worker' : ['A', 'B', 'C', 'D', 'E', 'F', 'G', 'H', 'I', 'J'],\n",
        "        'weekly salary' : [100, 120, 80, 155, 222, 400, 199, 403, 345, 290]}\n",
        "frame = pd.DataFrame(data)\n",
        "frame "
      ],
      "execution_count": null,
      "outputs": [
        {
          "output_type": "execute_result",
          "data": {
            "text/html": [
              "<div>\n",
              "<style scoped>\n",
              "    .dataframe tbody tr th:only-of-type {\n",
              "        vertical-align: middle;\n",
              "    }\n",
              "\n",
              "    .dataframe tbody tr th {\n",
              "        vertical-align: top;\n",
              "    }\n",
              "\n",
              "    .dataframe thead th {\n",
              "        text-align: right;\n",
              "    }\n",
              "</style>\n",
              "<table border=\"1\" class=\"dataframe\">\n",
              "  <thead>\n",
              "    <tr style=\"text-align: right;\">\n",
              "      <th></th>\n",
              "      <th>worker</th>\n",
              "      <th>weekly salary</th>\n",
              "    </tr>\n",
              "  </thead>\n",
              "  <tbody>\n",
              "    <tr>\n",
              "      <th>0</th>\n",
              "      <td>A</td>\n",
              "      <td>100</td>\n",
              "    </tr>\n",
              "    <tr>\n",
              "      <th>1</th>\n",
              "      <td>B</td>\n",
              "      <td>120</td>\n",
              "    </tr>\n",
              "    <tr>\n",
              "      <th>2</th>\n",
              "      <td>C</td>\n",
              "      <td>80</td>\n",
              "    </tr>\n",
              "    <tr>\n",
              "      <th>3</th>\n",
              "      <td>D</td>\n",
              "      <td>155</td>\n",
              "    </tr>\n",
              "    <tr>\n",
              "      <th>4</th>\n",
              "      <td>E</td>\n",
              "      <td>222</td>\n",
              "    </tr>\n",
              "    <tr>\n",
              "      <th>5</th>\n",
              "      <td>F</td>\n",
              "      <td>400</td>\n",
              "    </tr>\n",
              "    <tr>\n",
              "      <th>6</th>\n",
              "      <td>G</td>\n",
              "      <td>199</td>\n",
              "    </tr>\n",
              "    <tr>\n",
              "      <th>7</th>\n",
              "      <td>H</td>\n",
              "      <td>403</td>\n",
              "    </tr>\n",
              "    <tr>\n",
              "      <th>8</th>\n",
              "      <td>I</td>\n",
              "      <td>345</td>\n",
              "    </tr>\n",
              "    <tr>\n",
              "      <th>9</th>\n",
              "      <td>J</td>\n",
              "      <td>290</td>\n",
              "    </tr>\n",
              "  </tbody>\n",
              "</table>\n",
              "</div>"
            ],
            "text/plain": [
              "  worker  weekly salary\n",
              "0      A            100\n",
              "1      B            120\n",
              "2      C             80\n",
              "3      D            155\n",
              "4      E            222\n",
              "5      F            400\n",
              "6      G            199\n",
              "7      H            403\n",
              "8      I            345\n",
              "9      J            290"
            ]
          },
          "metadata": {
            "tags": []
          },
          "execution_count": 7
        }
      ]
    },
    {
      "cell_type": "code",
      "metadata": {
        "colab": {
          "base_uri": "https://localhost:8080/"
        },
        "id": "SKyKgyG9aOYP",
        "outputId": "88b03e5b-8a06-47b3-af0e-bd19070666d9"
      },
      "source": [
        "frame.info()"
      ],
      "execution_count": null,
      "outputs": [
        {
          "output_type": "stream",
          "text": [
            "<class 'pandas.core.frame.DataFrame'>\n",
            "RangeIndex: 10 entries, 0 to 9\n",
            "Data columns (total 2 columns):\n",
            " #   Column         Non-Null Count  Dtype \n",
            "---  ------         --------------  ----- \n",
            " 0   worker         10 non-null     object\n",
            " 1   weekly salary  10 non-null     int64 \n",
            "dtypes: int64(1), object(1)\n",
            "memory usage: 288.0+ bytes\n"
          ],
          "name": "stdout"
        }
      ]
    },
    {
      "cell_type": "code",
      "metadata": {
        "colab": {
          "base_uri": "https://localhost:8080/",
          "height": 296
        },
        "id": "u15ZI2gZaS_Y",
        "outputId": "4586fe16-bef7-4db6-9110-62373c4878fe"
      },
      "source": [
        "sns.histplot(data=frame, x=\"weekly salary\")"
      ],
      "execution_count": null,
      "outputs": [
        {
          "output_type": "execute_result",
          "data": {
            "text/plain": [
              "<matplotlib.axes._subplots.AxesSubplot at 0x7fd4a955e510>"
            ]
          },
          "metadata": {
            "tags": []
          },
          "execution_count": 9
        },
        {
          "output_type": "display_data",
          "data": {
            "image/png": "[encoded data removed]",
            "text/plain": [
              "<Figure size 432x288 with 1 Axes>"
            ]
          },
          "metadata": {
            "tags": [],
            "needs_background": "light"
          }
        }
      ]
    },
    {
      "cell_type": "code",
      "metadata": {
        "colab": {
          "base_uri": "https://localhost:8080/",
          "height": 389
        },
        "id": "49vKJaOFaUZS",
        "outputId": "b7531c3a-064c-4a6c-d16a-fd3c06bb341a"
      },
      "source": [
        "plt.figure(figsize=(10,6))\n",
        "ax=frame['weekly salary'].sort_values(ascending=False).plot(kind='bar')\n",
        "ax.set_xticklabels(labels = frame['worker'], rotation=70, ha=\"right\")\n",
        "ax.set_xlabel(\"weekly salary\")\n",
        "for p in ax.patches:\n",
        "  ax.annotate(p.get_height(),(p.get_x()+p.get_width()/2,p.get_height()),ha='center',va='bottom')"
      ],
      "execution_count": null,
      "outputs": [
        {
          "output_type": "display_data",
          "data": {
            "image/png": "[encoded data removed]",
            "text/plain": [
              "<Figure size 720x432 with 1 Axes>"
            ]
          },
          "metadata": {
            "tags": [],
            "needs_background": "light"
          }
        }
      ]
    }
  ]
}