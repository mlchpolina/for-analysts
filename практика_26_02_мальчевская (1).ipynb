{
  "nbformat": 4,
  "nbformat_minor": 0,
  "metadata": {
    "colab": {
      "name": "практика 26.02 мальчевская",
      "provenance": [],
      "collapsed_sections": [
        "Zu7ehI1O0A_x",
        "XqM-HryE1aPU",
        "kGWqEm4H5A_0"
      ]
    },
    "kernelspec": {
      "name": "python3",
      "display_name": "Python 3"
    }
  },
  "cells": [
    {
      "cell_type": "markdown",
      "metadata": {
        "id": "Zu7ehI1O0A_x"
      },
      "source": [
        "# ЛИНЕЙНАЯ АЛГЕБРА"
      ]
    },
    {
      "cell_type": "code",
      "metadata": {
        "id": "8V_ggh1hyYYv"
      },
      "source": [
        "import numpy as np\r\n",
        "import matplotlib.pyplot as plt\r\n",
        "from scipy import linalg"
      ],
      "execution_count": 3,
      "outputs": []
    },
    {
      "cell_type": "code",
      "metadata": {
        "colab": {
          "base_uri": "https://localhost:8080/"
        },
        "id": "TcbN-cT20QI0",
        "outputId": "520f006d-62b6-45fc-8cfa-924161d3fab9"
      },
      "source": [
        "arr=np.array([[1,2],[3,4]])\r\n",
        "linalg.det(arr)"
      ],
      "execution_count": 6,
      "outputs": [
        {
          "output_type": "execute_result",
          "data": {
            "text/plain": [
              "-2.0"
            ]
          },
          "metadata": {
            "tags": []
          },
          "execution_count": 6
        }
      ]
    },
    {
      "cell_type": "code",
      "metadata": {
        "id": "SU8x-ATh0koC"
      },
      "source": [
        "arr=np.array([[3,2],[6,4]])\r\n"
      ],
      "execution_count": 8,
      "outputs": []
    },
    {
      "cell_type": "code",
      "metadata": {
        "colab": {
          "base_uri": "https://localhost:8080/"
        },
        "id": "pgNtCHBj1MBN",
        "outputId": "f574e493-98b2-45fc-f2a2-5a811109f59e"
      },
      "source": [
        "linalg.det(arr)"
      ],
      "execution_count": 11,
      "outputs": [
        {
          "output_type": "execute_result",
          "data": {
            "text/plain": [
              "0.0"
            ]
          },
          "metadata": {
            "tags": []
          },
          "execution_count": 11
        }
      ]
    },
    {
      "cell_type": "code",
      "metadata": {
        "id": "IS7XOErS1KZ2"
      },
      "source": [
        "arr=np.array([[1,2],[3,4]])"
      ],
      "execution_count": 12,
      "outputs": []
    },
    {
      "cell_type": "code",
      "metadata": {
        "colab": {
          "base_uri": "https://localhost:8080/"
        },
        "id": "3-arUKkx08AY",
        "outputId": "1afce036-b28d-4903-a926-992477bd2f11"
      },
      "source": [
        "iarr=linalg.inv(arr)\r\n",
        "iarr"
      ],
      "execution_count": 13,
      "outputs": [
        {
          "output_type": "execute_result",
          "data": {
            "text/plain": [
              "array([[-2. ,  1. ],\n",
              "       [ 1.5, -0.5]])"
            ]
          },
          "metadata": {
            "tags": []
          },
          "execution_count": 13
        }
      ]
    },
    {
      "cell_type": "markdown",
      "metadata": {
        "id": "XqM-HryE1aPU"
      },
      "source": [
        "# ИНТЕРПОЛЯЦИЯ"
      ]
    },
    {
      "cell_type": "code",
      "metadata": {
        "colab": {
          "base_uri": "https://localhost:8080/"
        },
        "id": "2K3YiE5V1eo7",
        "outputId": "fff3ccbf-430d-4f54-8c32-e9cdd07f7cfd"
      },
      "source": [
        "import numpy as np\r\n",
        "from scipy import interpolate\r\n",
        "import matplotlib.pyplot as plt\r\n",
        "x=np.linspace(0,4,12) #интервал 12 точек от 0 до 4\r\n",
        "y=np.cos(x**2/3+4)\r\n",
        "print(x,y)"
      ],
      "execution_count": 33,
      "outputs": [
        {
          "output_type": "stream",
          "text": [
            "[0.         0.36363636 0.72727273 1.09090909 1.45454545 1.81818182\n",
            " 2.18181818 2.54545455 2.90909091 3.27272727 3.63636364 4.        ] [-0.65364362 -0.61966189 -0.51077021 -0.31047698 -0.00715476  0.37976236\n",
            "  0.76715099  0.99239518  0.85886263  0.27994201 -0.52586509 -0.99582185]\n"
          ],
          "name": "stdout"
        }
      ]
    },
    {
      "cell_type": "code",
      "metadata": {
        "colab": {
          "base_uri": "https://localhost:8080/",
          "height": 282
        },
        "id": "U4f1_Qj12AJp",
        "outputId": "51e57cbd-7487-4ef7-ca4c-371d1a46ac93"
      },
      "source": [
        "plt.plot(x,y,\"o\")"
      ],
      "execution_count": 34,
      "outputs": [
        {
          "output_type": "execute_result",
          "data": {
            "text/plain": [
              "[<matplotlib.lines.Line2D at 0x7fc46ec48550>]"
            ]
          },
          "metadata": {
            "tags": []
          },
          "execution_count": 34
        },
        {
          "output_type": "display_data",
          "data": {
            "image/png": "[encoded data removed]",
            "text/plain": [
              "<Figure size 432x288 with 1 Axes>"
            ]
          },
          "metadata": {
            "tags": [],
            "needs_background": "light"
          }
        }
      ]
    },
    {
      "cell_type": "code",
      "metadata": {
        "id": "QyCtYrbo2Ycl"
      },
      "source": [
        "from scipy.interpolate import interp1d\r\n",
        "f1=interp1d(x,y,kind='linear') #вход х у;kind функция \r\n",
        "f2=interp1d(x,y,kind='cubic')"
      ],
      "execution_count": 35,
      "outputs": []
    },
    {
      "cell_type": "code",
      "metadata": {
        "colab": {
          "base_uri": "https://localhost:8080/",
          "height": 265
        },
        "id": "5oqY9LKd28G_",
        "outputId": "89ca7bbf-1e70-4d23-92c1-dbb438d81bf5"
      },
      "source": [
        "xnew=np.linspace(0,4,30)\r\n",
        "plt.plot(x,y,\"o\",xnew,f1(xnew),\"-\",xnew,f2(xnew),\"--\")\r\n",
        "plt.legend([\"data\",\"linear\",\"cubic\",\"nearest\"],loc=\"best\")\r\n",
        "plt.show()"
      ],
      "execution_count": 36,
      "outputs": [
        {
          "output_type": "display_data",
          "data": {
            "image/png": "[encoded data removed]",
            "text/plain": [
              "<Figure size 432x288 with 1 Axes>"
            ]
          },
          "metadata": {
            "tags": [],
            "needs_background": "light"
          }
        }
      ]
    },
    {
      "cell_type": "markdown",
      "metadata": {
        "id": "kGWqEm4H5A_0"
      },
      "source": [
        "# СПЛАЙНЫ"
      ]
    },
    {
      "cell_type": "code",
      "metadata": {
        "colab": {
          "base_uri": "https://localhost:8080/",
          "height": 265
        },
        "id": "I-DfiR775FEC",
        "outputId": "42164372-67b9-43e5-b939-dd4720008747"
      },
      "source": [
        "import matplotlib.pyplot as plt\r\n",
        "from scipy.interpolate import UnivariateSpline\r\n",
        "x=np.linspace(-3,3,50)\r\n",
        "y=np.exp(-x**2)+0.1*np.random.randn(50)\r\n",
        "plt.plot(x,y,'ro',ms=5)\r\n",
        "plt.show()"
      ],
      "execution_count": 37,
      "outputs": [
        {
          "output_type": "display_data",
          "data": {
            "image/png": "[encoded data removed]",
            "text/plain": [
              "<Figure size 432x288 with 1 Axes>"
            ]
          },
          "metadata": {
            "tags": [],
            "needs_background": "light"
          }
        }
      ]
    },
    {
      "cell_type": "code",
      "metadata": {
        "colab": {
          "base_uri": "https://localhost:8080/",
          "height": 265
        },
        "id": "KWDwpWLI6GCN",
        "outputId": "d3910712-08b3-4925-d8f6-a33e64454166"
      },
      "source": [
        "spl=UnivariateSpline(x,y)\r\n",
        "xs=np.linspace(-3,3,1000)\r\n",
        "plt.plot(xs,spl(xs),'g',lw=3)\r\n",
        "plt.show()"
      ],
      "execution_count": 38,
      "outputs": [
        {
          "output_type": "display_data",
          "data": {
            "image/png": "[encoded data removed]",
            "text/plain": [
              "<Figure size 432x288 with 1 Axes>"
            ]
          },
          "metadata": {
            "tags": [],
            "needs_background": "light"
          }
        }
      ]
    },
    {
      "cell_type": "markdown",
      "metadata": {
        "id": "nzni8Muv5-ly"
      },
      "source": [
        "# ОПТИМИЗАЦИЯ И ПОДГОНКА"
      ]
    },
    {
      "cell_type": "code",
      "metadata": {
        "colab": {
          "base_uri": "https://localhost:8080/",
          "height": 283
        },
        "id": "JeJU_dZr61JQ",
        "outputId": "cefdbb8a-24eb-4e28-d05f-83c7bc89f9bc"
      },
      "source": [
        "from scipy import optimize\r\n",
        "x_data=np.linspace(-6,6,num=50)\r\n",
        "y_data=2.9*np.sin(1.5*x_data)+np.random.normal(size=50)\r\n",
        "plt.plot(x_data,y_data,'d',lw=3)"
      ],
      "execution_count": 28,
      "outputs": [
        {
          "output_type": "execute_result",
          "data": {
            "text/plain": [
              "[<matplotlib.lines.Line2D at 0x7fc46c6c5c50>]"
            ]
          },
          "metadata": {
            "tags": []
          },
          "execution_count": 28
        },
        {
          "output_type": "display_data",
          "data": {
            "image/png": "[encoded data removed]",
            "text/plain": [
              "<Figure size 432x288 with 1 Axes>"
            ]
          },
          "metadata": {
            "tags": [],
            "needs_background": "light"
          }
        }
      ]
    },
    {
      "cell_type": "code",
      "metadata": {
        "id": "mOdGGKqs71Mo"
      },
      "source": [
        "def  test_func(x,a,b):\r\n",
        "  return a*np.sin(b*x)\r\n",
        "  \r\n"
      ],
      "execution_count": 30,
      "outputs": []
    },
    {
      "cell_type": "code",
      "metadata": {
        "colab": {
          "base_uri": "https://localhost:8080/"
        },
        "id": "Csn9fLsi8PrM",
        "outputId": "aa4906b2-4ca7-4c7e-8020-9af2cd706874"
      },
      "source": [
        "params,params_covariance=optimize.curve_fit(test_func,x_data,y_data,p0=[2,2])\r\n",
        "print(params)"
      ],
      "execution_count": 31,
      "outputs": [
        {
          "output_type": "stream",
          "text": [
            "[3.10481861 1.52007639]\n"
          ],
          "name": "stdout"
        }
      ]
    },
    {
      "cell_type": "code",
      "metadata": {
        "colab": {
          "base_uri": "https://localhost:8080/",
          "height": 265
        },
        "id": "LmQdF_BN8n6m",
        "outputId": "1cb9b5fc-722f-4b42-e524-d6332c721562"
      },
      "source": [
        "a=params[0]\r\n",
        "b=params[1]\r\n",
        "y1=test_func(x,a,b)\r\n",
        "plt.plot(x_data,y_data,'d',x,y1,'g')\r\n",
        "plt.show()"
      ],
      "execution_count": 32,
      "outputs": [
        {
          "output_type": "display_data",
          "data": {
            "image/png": "[encoded data removed]",
            "text/plain": [
              "<Figure size 432x288 with 1 Axes>"
            ]
          },
          "metadata": {
            "tags": [],
            "needs_background": "light"
          }
        }
      ]
    },
    {
      "cell_type": "markdown",
      "metadata": {
        "id": "G5NwKloZ9LmJ"
      },
      "source": [
        "# ЗАДАНИЕ 1"
      ]
    },
    {
      "cell_type": "code",
      "metadata": {
        "colab": {
          "base_uri": "https://localhost:8080/",
          "height": 296
        },
        "id": "bSwlTZ-_9orW",
        "outputId": "1e1d8f02-b13a-46e5-d0d2-47bbf8ca4e99"
      },
      "source": [
        "import numpy as np\r\n",
        "temp_max=np.array([17,19,21,28,33,38,37,37,31,23,19,18])\r\n",
        "temp_min=np.array([-62,-59,-56,-46,-32,-18,-9,-13,-25,-46,-5,-8])\r\n",
        "import matplotlib.pyplot as plt\r\n",
        "months=np.arange(12)\r\n",
        "plt.plot(months,temp_max,'ro')\r\n",
        "plt.plot(months,temp_min,'bo')\r\n",
        "plt.xlabel('vtczw')\r\n",
        "plt.ylabel('Min i Max t')\r\n"
      ],
      "execution_count": 41,
      "outputs": [
        {
          "output_type": "execute_result",
          "data": {
            "text/plain": [
              "Text(0, 0.5, 'Min i Max t')"
            ]
          },
          "metadata": {
            "tags": []
          },
          "execution_count": 41
        },
        {
          "output_type": "display_data",
          "data": {
            "image/png": "[encoded data removed]",
            "text/plain": [
              "<Figure size 432x288 with 1 Axes>"
            ]
          },
          "metadata": {
            "tags": [],
            "needs_background": "light"
          }
        }
      ]
    },
    {
      "cell_type": "code",
      "metadata": {
        "id": "nGx68W2wA21i"
      },
      "source": [
        "from scipy import optimize\r\n",
        "def yearly_temps(times, avg, amp1, time_offset):\r\n",
        " return (avg+amp1*np.cos((times+time_offset)*2*np.pi/times.max()))\r\n",
        "\r\n",
        "res_max, cov_max=optimize.curve_fit(yearly_temps, months, temp_max, [20,10,0])\r\n",
        "res_min, cov_min=optimize.curve_fit(yearly_temps, months, temp_min, [-40,20,0])\r\n"
      ],
      "execution_count": 53,
      "outputs": []
    },
    {
      "cell_type": "code",
      "metadata": {
        "colab": {
          "base_uri": "https://localhost:8080/",
          "height": 279
        },
        "id": "YyXmFZyaBemV",
        "outputId": "7334c244-9077-4c69-cf4d-8e86da29f7b6"
      },
      "source": [
        "days=np.linspace(0, 12, num=365)\r\n",
        "plt.figure()\r\n",
        "plt.plot(months,temp_max,'ro')\r\n",
        "plt.plot(days,yearly_temps(days,*res_max),'r-')\r\n",
        "plt.plot(months,temp_min,'bo')\r\n",
        "plt.plot(days,yearly_temps(days,*res_min),'b-')\r\n",
        "plt.xlabel('месяц')\r\n",
        "plt.ylabel('температура $^\\circ$C')\r\n",
        "plt.show()\r\n"
      ],
      "execution_count": 54,
      "outputs": [
        {
          "output_type": "display_data",
          "data": {
            "image/png": "[encoded data removed]",
            "text/plain": [
              "<Figure size 432x288 with 1 Axes>"
            ]
          },
          "metadata": {
            "tags": [],
            "needs_background": "light"
          }
        }
      ]
    }
  ]
}