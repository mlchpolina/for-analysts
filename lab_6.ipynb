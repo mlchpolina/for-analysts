{
  "nbformat": 4,
  "nbformat_minor": 0,
  "metadata": {
    "colab": {
      "name": "lab 6.ipynb",
      "provenance": [],
      "collapsed_sections": [
        "Y5zP7oPwG5Hz",
        "UXa-Bo37TiI9",
        "PxFb_gC-UT7h",
        "03LiBsuAGHfl",
        "y9WynuQSGtEG",
        "0bCfGxAjINAA"
      ],
      "authorship_tag": "ABX9TyOxjmr1/bt/bEzrVvlJEbTe",
      "include_colab_link": true
    },
    "kernelspec": {
      "name": "python3",
      "display_name": "Python 3"
    },
    "language_info": {
      "name": "python"
    }
  },
  "cells": [
    {
      "cell_type": "markdown",
      "metadata": {
        "id": "view-in-github",
        "colab_type": "text"
      },
      "source": [
        "<a href=\"https://colab.research.google.com/github/mlchpolina/for-analysts/blob/main/lab_6.ipynb\" target=\"_parent\"><img src=\"https://colab.research.google.com/assets/colab-badge.svg\" alt=\"Open In Colab\"/></a>"
      ]
    },
    {
      "cell_type": "markdown",
      "metadata": {
        "id": "Y5zP7oPwG5Hz"
      },
      "source": [
        "# Вариант 16"
      ]
    },
    {
      "cell_type": "code",
      "metadata": {
        "colab": {
          "base_uri": "https://localhost:8080/"
        },
        "id": "LUcxbXtnG4H_",
        "outputId": "10ed38eb-14f8-47a6-b797-44c26d2d8239"
      },
      "source": [
        "import requests\n",
        "import pandas as pd\n",
        "import seaborn as sns\n",
        "import matplotlib.pyplot as plt\n",
        "import numpy as np\n",
        "\n",
        "#Importing the data from the webpage into a DataFrame\n",
        "url='https://en.wikipedia.org/wiki/Cinema_of_Russia#List_of_highest-grossing_films'\n",
        "req=requests.get(url)\n",
        "data=pd.read_html(req.text)\n",
        "df=data[1]\n",
        "df.head()"
      ],
      "execution_count": null,
      "outputs": [
        {
          "output_type": "execute_result",
          "data": {
            "text/html": [
              "<div>\n",
              "<style scoped>\n",
              "    .dataframe tbody tr th:only-of-type {\n",
              "        vertical-align: middle;\n",
              "    }\n",
              "\n",
              "    .dataframe tbody tr th {\n",
              "        vertical-align: top;\n",
              "    }\n",
              "\n",
              "    .dataframe thead th {\n",
              "        text-align: right;\n",
              "    }\n",
              "</style>\n",
              "<table border=\"1\" class=\"dataframe\">\n",
              "  <thead>\n",
              "    <tr style=\"text-align: right;\">\n",
              "      <th></th>\n",
              "      <th>Rank</th>\n",
              "      <th>Title</th>\n",
              "      <th>Gross</th>\n",
              "      <th>Year</th>\n",
              "      <th>Genre</th>\n",
              "      <th>Details</th>\n",
              "      <th>Director</th>\n",
              "    </tr>\n",
              "  </thead>\n",
              "  <tbody>\n",
              "    <tr>\n",
              "      <th>0</th>\n",
              "      <td>1</td>\n",
              "      <td>Сталинград Stalingrad</td>\n",
              "      <td>$68,075,573</td>\n",
              "      <td>2013</td>\n",
              "      <td>War</td>\n",
              "      <td>A World War II film about Battle of Stalingrad</td>\n",
              "      <td>Fyodor Bondarchuk</td>\n",
              "    </tr>\n",
              "    <tr>\n",
              "      <th>1</th>\n",
              "      <td>2</td>\n",
              "      <td>Движение Вверх Going Vertical</td>\n",
              "      <td>$66,000,000</td>\n",
              "      <td>2017</td>\n",
              "      <td>Sports drama</td>\n",
              "      <td>About 1972 Olympic Men's Basketball Final</td>\n",
              "      <td>Anton Megerdichev</td>\n",
              "    </tr>\n",
              "    <tr>\n",
              "      <th>2</th>\n",
              "      <td>3</td>\n",
              "      <td>Ирония судьбы. Продолжение Irony of Fate: The ...</td>\n",
              "      <td>$55,639,114</td>\n",
              "      <td>2007</td>\n",
              "      <td>Romantic comedy</td>\n",
              "      <td>A Christmas film, the sequel to a 1976 film of...</td>\n",
              "      <td>Timur Bekmambetov</td>\n",
              "    </tr>\n",
              "    <tr>\n",
              "      <th>3</th>\n",
              "      <td>4</td>\n",
              "      <td>Холоп Serf</td>\n",
              "      <td>$47,500,000</td>\n",
              "      <td>2019</td>\n",
              "      <td>Comedy</td>\n",
              "      <td>NaN</td>\n",
              "      <td>Klim Shipenko</td>\n",
              "    </tr>\n",
              "    <tr>\n",
              "      <th>4</th>\n",
              "      <td>5</td>\n",
              "      <td>Дневной дозор Day Watch</td>\n",
              "      <td>$42,918,532</td>\n",
              "      <td>2006</td>\n",
              "      <td>Fantasy</td>\n",
              "      <td>Based on urban fantasy book series Dozory by S...</td>\n",
              "      <td>Timur Bekmambetov</td>\n",
              "    </tr>\n",
              "  </tbody>\n",
              "</table>\n",
              "</div>"
            ],
            "text/plain": [
              "   Rank  ...           Director\n",
              "0     1  ...  Fyodor Bondarchuk\n",
              "1     2  ...  Anton Megerdichev\n",
              "2     3  ...  Timur Bekmambetov\n",
              "3     4  ...      Klim Shipenko\n",
              "4     5  ...  Timur Bekmambetov\n",
              "\n",
              "[5 rows x 7 columns]"
            ]
          },
          "metadata": {
            "tags": []
          },
          "execution_count": 52
        }
      ]
    },
    {
      "cell_type": "code",
      "metadata": {
        "colab": {
          "base_uri": "https://localhost:8080/"
        },
        "id": "DzoGPLDbNkQ-",
        "outputId": "21a8c795-3905-4303-ed03-22d97fd4e9b9"
      },
      "source": [
        "df.info()"
      ],
      "execution_count": null,
      "outputs": [
        {
          "output_type": "stream",
          "text": [
            "<class 'pandas.core.frame.DataFrame'>\n",
            "RangeIndex: 30 entries, 0 to 29\n",
            "Data columns (total 7 columns):\n",
            " #   Column    Non-Null Count  Dtype \n",
            "---  ------    --------------  ----- \n",
            " 0   Rank      30 non-null     int64 \n",
            " 1   Title     30 non-null     object\n",
            " 2   Gross     30 non-null     object\n",
            " 3   Year      30 non-null     int64 \n",
            " 4   Genre     30 non-null     object\n",
            " 5   Details   26 non-null     object\n",
            " 6   Director  30 non-null     object\n",
            "dtypes: int64(2), object(5)\n",
            "memory usage: 1.8+ KB\n"
          ],
          "name": "stdout"
        }
      ]
    },
    {
      "cell_type": "code",
      "metadata": {
        "colab": {
          "base_uri": "https://localhost:8080/"
        },
        "id": "rnFlXGvbNp7g",
        "outputId": "cba4b2a6-5a35-4dd3-ea16-deae344980a3"
      },
      "source": [
        "df['Gross']=df['Gross'].str.replace(r\"$\",\"\").str.replace(r\",\",\"\")\n",
        "df['Gross']=df['Gross'].astype('int64')\n",
        "df.info()\n",
        "df.drop(['Rank','Title', 'Genre', 'Details', 'Director'],axis=1,inplace=True)"
      ],
      "execution_count": null,
      "outputs": [
        {
          "output_type": "stream",
          "text": [
            "<class 'pandas.core.frame.DataFrame'>\n",
            "RangeIndex: 30 entries, 0 to 29\n",
            "Data columns (total 7 columns):\n",
            " #   Column    Non-Null Count  Dtype \n",
            "---  ------    --------------  ----- \n",
            " 0   Rank      30 non-null     int64 \n",
            " 1   Title     30 non-null     object\n",
            " 2   Gross     30 non-null     int64 \n",
            " 3   Year      30 non-null     int64 \n",
            " 4   Genre     30 non-null     object\n",
            " 5   Details   26 non-null     object\n",
            " 6   Director  30 non-null     object\n",
            "dtypes: int64(3), object(4)\n",
            "memory usage: 1.8+ KB\n"
          ],
          "name": "stdout"
        }
      ]
    },
    {
      "cell_type": "code",
      "metadata": {
        "colab": {
          "base_uri": "https://localhost:8080/"
        },
        "id": "FbYbyECoQ2FY",
        "outputId": "8fd6554b-4a24-42cc-e6b3-abcc56902436"
      },
      "source": [
        "df.head()"
      ],
      "execution_count": null,
      "outputs": [
        {
          "output_type": "execute_result",
          "data": {
            "text/html": [
              "<div>\n",
              "<style scoped>\n",
              "    .dataframe tbody tr th:only-of-type {\n",
              "        vertical-align: middle;\n",
              "    }\n",
              "\n",
              "    .dataframe tbody tr th {\n",
              "        vertical-align: top;\n",
              "    }\n",
              "\n",
              "    .dataframe thead th {\n",
              "        text-align: right;\n",
              "    }\n",
              "</style>\n",
              "<table border=\"1\" class=\"dataframe\">\n",
              "  <thead>\n",
              "    <tr style=\"text-align: right;\">\n",
              "      <th></th>\n",
              "      <th>Gross</th>\n",
              "      <th>Year</th>\n",
              "    </tr>\n",
              "  </thead>\n",
              "  <tbody>\n",
              "    <tr>\n",
              "      <th>0</th>\n",
              "      <td>68075573</td>\n",
              "      <td>2013</td>\n",
              "    </tr>\n",
              "    <tr>\n",
              "      <th>1</th>\n",
              "      <td>66000000</td>\n",
              "      <td>2017</td>\n",
              "    </tr>\n",
              "    <tr>\n",
              "      <th>2</th>\n",
              "      <td>55639114</td>\n",
              "      <td>2007</td>\n",
              "    </tr>\n",
              "    <tr>\n",
              "      <th>3</th>\n",
              "      <td>47500000</td>\n",
              "      <td>2019</td>\n",
              "    </tr>\n",
              "    <tr>\n",
              "      <th>4</th>\n",
              "      <td>42918532</td>\n",
              "      <td>2006</td>\n",
              "    </tr>\n",
              "  </tbody>\n",
              "</table>\n",
              "</div>"
            ],
            "text/plain": [
              "      Gross  Year\n",
              "0  68075573  2013\n",
              "1  66000000  2017\n",
              "2  55639114  2007\n",
              "3  47500000  2019\n",
              "4  42918532  2006"
            ]
          },
          "metadata": {
            "tags": []
          },
          "execution_count": 55
        }
      ]
    },
    {
      "cell_type": "code",
      "metadata": {
        "colab": {
          "base_uri": "https://localhost:8080/"
        },
        "id": "APhHUGg6Tzeh",
        "outputId": "01eadcf7-0188-4428-891a-64eccd36ff6e"
      },
      "source": [
        "nmp_gross = df['Gross'].to_numpy()\n",
        "nmp_year = df['Year'].to_numpy()\n",
        "nmp_gross"
      ],
      "execution_count": null,
      "outputs": [
        {
          "output_type": "execute_result",
          "data": {
            "text/plain": [
              "array([68075573, 66000000, 55639114, 47500000, 42918532, 39539416,\n",
              "       38135878, 38067427, 33951015, 31505876, 30496695, 29523237,\n",
              "       27908763, 27544905, 26231525, 25646739, 25555809, 24965362,\n",
              "       24830497, 23305571, 22772019, 22213287, 21500000, 21015154,\n",
              "       20962988, 19390136, 19010585, 18500000, 18400000, 17808683])"
            ]
          },
          "metadata": {
            "tags": []
          },
          "execution_count": 57
        }
      ]
    },
    {
      "cell_type": "markdown",
      "metadata": {
        "id": "UXa-Bo37TiI9"
      },
      "source": [
        "# гистограмма"
      ]
    },
    {
      "cell_type": "code",
      "metadata": {
        "colab": {
          "base_uri": "https://localhost:8080/"
        },
        "id": "J2X8AGZWTNOD",
        "outputId": "2c449e2d-d200-4123-eeb2-2e847279e6b3"
      },
      "source": [
        "nmp_gross_sorted = np.sort(nmp_gross)\n",
        "fig, ax = plt.subplots()\n",
        "ax.hist(nmp_gross_sorted)\n",
        "ax.set_xlabel('Gross (mln $)')\n",
        "ax.set_ylabel('Frequency')\n",
        "ax.set_title('Visual checking data on being normal')\n",
        "ax.grid(True)\n",
        "plt.show()"
      ],
      "execution_count": null,
      "outputs": [
        {
          "output_type": "display_data",
          "data": {
            "image/png": "[encoded data removed]",
            "text/plain": [
              "<Figure size 432x288 with 1 Axes>"
            ]
          },
          "metadata": {
            "tags": [],
            "needs_background": "light"
          }
        }
      ]
    },
    {
      "cell_type": "code",
      "metadata": {
        "colab": {
          "base_uri": "https://localhost:8080/"
        },
        "id": "GztWWQpDUE0F",
        "outputId": "81db7f1b-138d-4bad-c7c7-c986b2d71922"
      },
      "source": [
        "nmp_year_sorted = np.sort(nmp_year)\n",
        "fig, ax = plt.subplots()\n",
        "ax.hist(nmp_year_sorted)\n",
        "ax.set_xlabel('Years')\n",
        "ax.set_ylabel('Frequency')\n",
        "ax.set_title('Visual checking data on being normal')\n",
        "ax.grid(True)\n",
        "plt.show()\n"
      ],
      "execution_count": null,
      "outputs": [
        {
          "output_type": "display_data",
          "data": {
            "image/png": "[encoded data removed]",
            "text/plain": [
              "<Figure size 432x288 with 1 Axes>"
            ]
          },
          "metadata": {
            "tags": [],
            "needs_background": "light"
          }
        }
      ]
    },
    {
      "cell_type": "markdown",
      "metadata": {
        "id": "PxFb_gC-UT7h"
      },
      "source": [
        "# QQ"
      ]
    },
    {
      "cell_type": "code",
      "metadata": {
        "colab": {
          "base_uri": "https://localhost:8080/"
        },
        "id": "uFoINxqoUXg-",
        "outputId": "b0fa76cd-7fa3-40e2-b35b-547adcbbe7ab"
      },
      "source": [
        "from statsmodels.graphics.gofplots import qqplot\n",
        "from matplotlib import pyplot\n",
        "\n",
        "qqplot(nmp_gross_sorted, line = 's',color='green')\n",
        "pyplot.title('Visual checking data (Gross (mln $)) on being normal')\n",
        "pyplot.show()"
      ],
      "execution_count": null,
      "outputs": [
        {
          "output_type": "display_data",
          "data": {
            "image/png": "[encoded data removed]",
            "text/plain": [
              "<Figure size 432x288 with 1 Axes>"
            ]
          },
          "metadata": {
            "tags": [],
            "needs_background": "light"
          }
        }
      ]
    },
    {
      "cell_type": "code",
      "metadata": {
        "colab": {
          "base_uri": "https://localhost:8080/"
        },
        "id": "PPFb2MfYUwFI",
        "outputId": "afdacb53-6b4d-4182-e6a1-08146c28344d"
      },
      "source": [
        "from statsmodels.graphics.gofplots import qqplot\n",
        "from matplotlib import pyplot\n",
        "\n",
        "qqplot(nmp_year_sorted, line = 's',color='violet')\n",
        "pyplot.title('Visual checking data (Years) on being normal')\n",
        "pyplot.show()\n"
      ],
      "execution_count": null,
      "outputs": [
        {
          "output_type": "display_data",
          "data": {
            "image/png": "[encoded data removed]",
            "text/plain": [
              "<Figure size 432x288 with 1 Axes>"
            ]
          },
          "metadata": {
            "tags": [],
            "needs_background": "light"
          }
        }
      ]
    },
    {
      "cell_type": "markdown",
      "metadata": {
        "id": "03LiBsuAGHfl"
      },
      "source": [
        "# Тест Шапиро- Вилка "
      ]
    },
    {
      "cell_type": "code",
      "metadata": {
        "colab": {
          "base_uri": "https://localhost:8080/"
        },
        "id": "RWCziFDbGBTz",
        "outputId": "7136d9d7-0acf-41cf-c148-e10c40769274"
      },
      "source": [
        "from scipy.stats import shapiro\n",
        "\n",
        "stat, p = shapiro(nmp_gross_sorted)\n",
        "print('Statistics=%.3f, p = %.3f' % (stat, p))\n",
        "\n",
        "alpha = 0.05\n",
        "if p > alpha:\n",
        "  print('Sample looks Gaussian (fail to reject HO)')\n",
        "else:\n",
        "  print('Sample does not look Gaussian (reject HO)')"
      ],
      "execution_count": null,
      "outputs": [
        {
          "output_type": "stream",
          "text": [
            "Statistics=0.820, p = 0.000\n",
            "Sample does not look Gaussian (reject HO)\n"
          ],
          "name": "stdout"
        }
      ]
    },
    {
      "cell_type": "code",
      "metadata": {
        "colab": {
          "base_uri": "https://localhost:8080/"
        },
        "id": "g3i_6yaAVFcU",
        "outputId": "da6c739f-5566-42e2-d7ee-d658dc73a702"
      },
      "source": [
        "from scipy.stats import shapiro\n",
        "\n",
        "stat, p = shapiro(nmp_year_sorted)\n",
        "print('Statistics=%.3f, p = %.3f' % (stat, p))\n",
        "\n",
        "alpha = 0.05\n",
        "if p > alpha:\n",
        "  print('Sample looks Gaussian (fail to reject HO)')\n",
        "else:\n",
        "  print('Sample does not look Gaussian (reject HO)')"
      ],
      "execution_count": null,
      "outputs": [
        {
          "output_type": "stream",
          "text": [
            "Statistics=0.971, p = 0.566\n",
            "Sample looks Gaussian (fail to reject HO)\n"
          ],
          "name": "stdout"
        }
      ]
    },
    {
      "cell_type": "markdown",
      "metadata": {
        "id": "y9WynuQSGtEG"
      },
      "source": [
        "# Тест д'Агостино на K ^ 2"
      ]
    },
    {
      "cell_type": "code",
      "metadata": {
        "colab": {
          "base_uri": "https://localhost:8080/"
        },
        "id": "cuSwbWV1BxYR",
        "outputId": "7520253b-fb74-4fd2-e28e-eee0586ff8d5"
      },
      "source": [
        "\n",
        "from scipy.stats import normaltest\n",
        "\n",
        "stat, p = normaltest(nmp_gross_sorted)\n",
        "print('Statistics=%.3f, p = %.3f' % (stat, p))\n",
        "\n",
        "alpha = 0.05\n",
        "if p > alpha:\n",
        "  print('Sample looks Gaussian (fail to reject HO)')\n",
        "else:\n",
        "  print('Sample does not look Gaussian (reject HO)')"
      ],
      "execution_count": null,
      "outputs": [
        {
          "output_type": "stream",
          "text": [
            "Statistics=13.588, p = 0.001\n",
            "Sample does not look Gaussian (reject HO)\n"
          ],
          "name": "stdout"
        }
      ]
    },
    {
      "cell_type": "code",
      "metadata": {
        "colab": {
          "base_uri": "https://localhost:8080/"
        },
        "id": "WgAVWNreVVTG",
        "outputId": "a4ae0cf1-01d6-4e42-f6cd-394f7bdd3ef9"
      },
      "source": [
        "from scipy.stats import normaltest\n",
        "\n",
        "stat, p = normaltest(nmp_year_sorted)\n",
        "print('Statistics=%.3f, p = %.3f' % (stat, p))\n",
        "\n",
        "alpha = 0.05\n",
        "if p > alpha:\n",
        "  print('Sample looks Gaussian (fail to reject HO)')\n",
        "else:\n",
        "  print('Sample does not look Gaussian (reject HO)')"
      ],
      "execution_count": null,
      "outputs": [
        {
          "output_type": "stream",
          "text": [
            "Statistics=1.499, p = 0.473\n",
            "Sample looks Gaussian (fail to reject HO)\n"
          ],
          "name": "stdout"
        }
      ]
    },
    {
      "cell_type": "markdown",
      "metadata": {
        "id": "0bCfGxAjINAA"
      },
      "source": [
        "# Тест Андерсона-Дарлинга"
      ]
    },
    {
      "cell_type": "code",
      "metadata": {
        "colab": {
          "base_uri": "https://localhost:8080/"
        },
        "id": "A7EVn0c9ILjB",
        "outputId": "f06ae1f8-28df-427c-9deb-dc88cba8a99f"
      },
      "source": [
        "from scipy.stats import anderson\n",
        "result = anderson(nmp_gross_sorted)\n",
        "print('Statistic: %.3f' % result.statistic)\n",
        "\n",
        "p = 0\n",
        "for i in range(len(result.critical_values)):\n",
        "  sl, cv = result.significance_level[i], result.critical_values[i]\n",
        "  if result.statistic < result.critical_values[i]:\n",
        "    print('%.3f: %.3f, data looks normal (fail to reject HO)' % (sl, cv))\n",
        "  else:\n",
        "    print('%.3f: %.3f, data does not look normal (reject HO)' % (sl, cv))"
      ],
      "execution_count": null,
      "outputs": [
        {
          "output_type": "stream",
          "text": [
            "Statistic: 1.799\n",
            "15.000: 0.521, data does not look normal (reject HO)\n",
            "10.000: 0.593, data does not look normal (reject HO)\n",
            "5.000: 0.712, data does not look normal (reject HO)\n",
            "2.500: 0.830, data does not look normal (reject HO)\n",
            "1.000: 0.988, data does not look normal (reject HO)\n"
          ],
          "name": "stdout"
        }
      ]
    },
    {
      "cell_type": "code",
      "metadata": {
        "colab": {
          "base_uri": "https://localhost:8080/"
        },
        "id": "SXgjeA_YVoOD",
        "outputId": "360c0782-4ab6-468a-f25d-617d72e046cf"
      },
      "source": [
        "from scipy.stats import anderson\n",
        "\n",
        "result = anderson(nmp_year_sorted)\n",
        "print('Statistic: %.3f' % result.statistic)\n",
        "\n",
        "p = 0\n",
        "for i in range(len(result.critical_values)):\n",
        "  sl, cv = result.significance_level[i], result.critical_values[i]\n",
        "  if result.statistic < result.critical_values[i]:\n",
        "    print('%.3f: %.3f, data looks normal (fail to reject HO)' % (sl, cv))\n",
        "  else:\n",
        "    print('%.3f: %.3f, data does not look normal (reject HO)' % (sl, cv))"
      ],
      "execution_count": null,
      "outputs": [
        {
          "output_type": "stream",
          "text": [
            "Statistic: 0.257\n",
            "15.000: 0.521, data looks normal (fail to reject HO)\n",
            "10.000: 0.593, data looks normal (fail to reject HO)\n",
            "5.000: 0.712, data looks normal (fail to reject HO)\n",
            "2.500: 0.830, data looks normal (fail to reject HO)\n",
            "1.000: 0.988, data looks normal (fail to reject HO)\n"
          ],
          "name": "stdout"
        }
      ]
    }
  ]
}