{
  "nbformat": 4,
  "nbformat_minor": 0,
  "metadata": {
    "colab": {
      "name": "lab 3 мальчевская.ipynb",
      "provenance": [],
      "collapsed_sections": [],
      "authorship_tag": "ABX9TyNaJCWl8SzMbRdYzKfKjA6i",
      "include_colab_link": true
    },
    "kernelspec": {
      "name": "python3",
      "display_name": "Python 3"
    },
    "language_info": {
      "name": "python"
    }
  },
  "cells": [
    {
      "cell_type": "markdown",
      "metadata": {
        "id": "view-in-github",
        "colab_type": "text"
      },
      "source": [
        "<a href=\"https://colab.research.google.com/github/mlchpolina/for-analysts/blob/main/lab_3_%D0%BC%D0%B0%D0%BB%D1%8C%D1%87%D0%B5%D0%B2%D1%81%D0%BA%D0%B0%D1%8F.ipynb\" target=\"_parent\"><img src=\"https://colab.research.google.com/assets/colab-badge.svg\" alt=\"Open In Colab\"/></a>"
      ]
    },
    {
      "cell_type": "markdown",
      "metadata": {
        "id": "T31xm8-6mgj0"
      },
      "source": [
        "# Интеграл"
      ]
    },
    {
      "cell_type": "code",
      "metadata": {
        "colab": {
          "base_uri": "https://localhost:8080/"
        },
        "id": "l0i8-liWPBX4",
        "outputId": "f7669fcc-ed61-4bda-b86f-8716f7502e3a"
      },
      "source": [
        "import numpy as np\n",
        "import scipy as sp\n",
        "from scipy import integrate \n",
        "help(integrate.quad)"
      ],
      "execution_count": null,
      "outputs": [
        {
          "output_type": "stream",
          "text": [
            "Help on function quad in module scipy.integrate.quadpack:\n",
            "\n",
            "quad(func, a, b, args=(), full_output=0, epsabs=1.49e-08, epsrel=1.49e-08, limit=50, points=None, weight=None, wvar=None, wopts=None, maxp1=50, limlst=50)\n",
            "    Compute a definite integral.\n",
            "    \n",
            "    Integrate func from `a` to `b` (possibly infinite interval) using a\n",
            "    technique from the Fortran library QUADPACK.\n",
            "    \n",
            "    Parameters\n",
            "    ----------\n",
            "    func : {function, scipy.LowLevelCallable}\n",
            "        A Python function or method to integrate.  If `func` takes many\n",
            "        arguments, it is integrated along the axis corresponding to the\n",
            "        first argument.\n",
            "    \n",
            "        If the user desires improved integration performance, then `f` may\n",
            "        be a `scipy.LowLevelCallable` with one of the signatures::\n",
            "    \n",
            "            double func(double x)\n",
            "            double func(double x, void *user_data)\n",
            "            double func(int n, double *xx)\n",
            "            double func(int n, double *xx, void *user_data)\n",
            "    \n",
            "        The ``user_data`` is the data contained in the `scipy.LowLevelCallable`.\n",
            "        In the call forms with ``xx``,  ``n`` is the length of the ``xx``\n",
            "        array which contains ``xx[0] == x`` and the rest of the items are\n",
            "        numbers contained in the ``args`` argument of quad.\n",
            "    \n",
            "        In addition, certain ctypes call signatures are supported for\n",
            "        backward compatibility, but those should not be used in new code.\n",
            "    a : float\n",
            "        Lower limit of integration (use -numpy.inf for -infinity).\n",
            "    b : float\n",
            "        Upper limit of integration (use numpy.inf for +infinity).\n",
            "    args : tuple, optional\n",
            "        Extra arguments to pass to `func`.\n",
            "    full_output : int, optional\n",
            "        Non-zero to return a dictionary of integration information.\n",
            "        If non-zero, warning messages are also suppressed and the\n",
            "        message is appended to the output tuple.\n",
            "    \n",
            "    Returns\n",
            "    -------\n",
            "    y : float\n",
            "        The integral of func from `a` to `b`.\n",
            "    abserr : float\n",
            "        An estimate of the absolute error in the result.\n",
            "    infodict : dict\n",
            "        A dictionary containing additional information.\n",
            "        Run scipy.integrate.quad_explain() for more information.\n",
            "    message\n",
            "        A convergence message.\n",
            "    explain\n",
            "        Appended only with 'cos' or 'sin' weighting and infinite\n",
            "        integration limits, it contains an explanation of the codes in\n",
            "        infodict['ierlst']\n",
            "    \n",
            "    Other Parameters\n",
            "    ----------------\n",
            "    epsabs : float or int, optional\n",
            "        Absolute error tolerance.\n",
            "    epsrel : float or int, optional\n",
            "        Relative error tolerance.\n",
            "    limit : float or int, optional\n",
            "        An upper bound on the number of subintervals used in the adaptive\n",
            "        algorithm.\n",
            "    points : (sequence of floats,ints), optional\n",
            "        A sequence of break points in the bounded integration interval\n",
            "        where local difficulties of the integrand may occur (e.g.,\n",
            "        singularities, discontinuities). The sequence does not have\n",
            "        to be sorted. Note that this option cannot be used in conjunction\n",
            "        with ``weight``.\n",
            "    weight : float or int, optional\n",
            "        String indicating weighting function. Full explanation for this\n",
            "        and the remaining arguments can be found below.\n",
            "    wvar : optional\n",
            "        Variables for use with weighting functions.\n",
            "    wopts : optional\n",
            "        Optional input for reusing Chebyshev moments.\n",
            "    maxp1 : float or int, optional\n",
            "        An upper bound on the number of Chebyshev moments.\n",
            "    limlst : int, optional\n",
            "        Upper bound on the number of cycles (>=3) for use with a sinusoidal\n",
            "        weighting and an infinite end-point.\n",
            "    \n",
            "    See Also\n",
            "    --------\n",
            "    dblquad : double integral\n",
            "    tplquad : triple integral\n",
            "    nquad : n-dimensional integrals (uses `quad` recursively)\n",
            "    fixed_quad : fixed-order Gaussian quadrature\n",
            "    quadrature : adaptive Gaussian quadrature\n",
            "    odeint : ODE integrator\n",
            "    ode : ODE integrator\n",
            "    simps : integrator for sampled data\n",
            "    romb : integrator for sampled data\n",
            "    scipy.special : for coefficients and roots of orthogonal polynomials\n",
            "    \n",
            "    Notes\n",
            "    -----\n",
            "    \n",
            "    **Extra information for quad() inputs and outputs**\n",
            "    \n",
            "    If full_output is non-zero, then the third output argument\n",
            "    (infodict) is a dictionary with entries as tabulated below.  For\n",
            "    infinite limits, the range is transformed to (0,1) and the\n",
            "    optional outputs are given with respect to this transformed range.\n",
            "    Let M be the input argument limit and let K be infodict['last'].\n",
            "    The entries are:\n",
            "    \n",
            "    'neval'\n",
            "        The number of function evaluations.\n",
            "    'last'\n",
            "        The number, K, of subintervals produced in the subdivision process.\n",
            "    'alist'\n",
            "        A rank-1 array of length M, the first K elements of which are the\n",
            "        left end points of the subintervals in the partition of the\n",
            "        integration range.\n",
            "    'blist'\n",
            "        A rank-1 array of length M, the first K elements of which are the\n",
            "        right end points of the subintervals.\n",
            "    'rlist'\n",
            "        A rank-1 array of length M, the first K elements of which are the\n",
            "        integral approximations on the subintervals.\n",
            "    'elist'\n",
            "        A rank-1 array of length M, the first K elements of which are the\n",
            "        moduli of the absolute error estimates on the subintervals.\n",
            "    'iord'\n",
            "        A rank-1 integer array of length M, the first L elements of\n",
            "        which are pointers to the error estimates over the subintervals\n",
            "        with ``L=K`` if ``K<=M/2+2`` or ``L=M+1-K`` otherwise. Let I be the\n",
            "        sequence ``infodict['iord']`` and let E be the sequence\n",
            "        ``infodict['elist']``.  Then ``E[I[1]], ..., E[I[L]]`` forms a\n",
            "        decreasing sequence.\n",
            "    \n",
            "    If the input argument points is provided (i.e. it is not None),\n",
            "    the following additional outputs are placed in the output\n",
            "    dictionary.  Assume the points sequence is of length P.\n",
            "    \n",
            "    'pts'\n",
            "        A rank-1 array of length P+2 containing the integration limits\n",
            "        and the break points of the intervals in ascending order.\n",
            "        This is an array giving the subintervals over which integration\n",
            "        will occur.\n",
            "    'level'\n",
            "        A rank-1 integer array of length M (=limit), containing the\n",
            "        subdivision levels of the subintervals, i.e., if (aa,bb) is a\n",
            "        subinterval of ``(pts[1], pts[2])`` where ``pts[0]`` and ``pts[2]``\n",
            "        are adjacent elements of ``infodict['pts']``, then (aa,bb) has level l\n",
            "        if ``|bb-aa| = |pts[2]-pts[1]| * 2**(-l)``.\n",
            "    'ndin'\n",
            "        A rank-1 integer array of length P+2.  After the first integration\n",
            "        over the intervals (pts[1], pts[2]), the error estimates over some\n",
            "        of the intervals may have been increased artificially in order to\n",
            "        put their subdivision forward.  This array has ones in slots\n",
            "        corresponding to the subintervals for which this happens.\n",
            "    \n",
            "    **Weighting the integrand**\n",
            "    \n",
            "    The input variables, *weight* and *wvar*, are used to weight the\n",
            "    integrand by a select list of functions.  Different integration\n",
            "    methods are used to compute the integral with these weighting\n",
            "    functions, and these do not support specifying break points. The\n",
            "    possible values of weight and the corresponding weighting functions are.\n",
            "    \n",
            "    ==========  ===================================   =====================\n",
            "    ``weight``  Weight function used                  ``wvar``\n",
            "    ==========  ===================================   =====================\n",
            "    'cos'       cos(w*x)                              wvar = w\n",
            "    'sin'       sin(w*x)                              wvar = w\n",
            "    'alg'       g(x) = ((x-a)**alpha)*((b-x)**beta)   wvar = (alpha, beta)\n",
            "    'alg-loga'  g(x)*log(x-a)                         wvar = (alpha, beta)\n",
            "    'alg-logb'  g(x)*log(b-x)                         wvar = (alpha, beta)\n",
            "    'alg-log'   g(x)*log(x-a)*log(b-x)                wvar = (alpha, beta)\n",
            "    'cauchy'    1/(x-c)                               wvar = c\n",
            "    ==========  ===================================   =====================\n",
            "    \n",
            "    wvar holds the parameter w, (alpha, beta), or c depending on the weight\n",
            "    selected.  In these expressions, a and b are the integration limits.\n",
            "    \n",
            "    For the 'cos' and 'sin' weighting, additional inputs and outputs are\n",
            "    available.\n",
            "    \n",
            "    For finite integration limits, the integration is performed using a\n",
            "    Clenshaw-Curtis method which uses Chebyshev moments.  For repeated\n",
            "    calculations, these moments are saved in the output dictionary:\n",
            "    \n",
            "    'momcom'\n",
            "        The maximum level of Chebyshev moments that have been computed,\n",
            "        i.e., if ``M_c`` is ``infodict['momcom']`` then the moments have been\n",
            "        computed for intervals of length ``|b-a| * 2**(-l)``,\n",
            "        ``l=0,1,...,M_c``.\n",
            "    'nnlog'\n",
            "        A rank-1 integer array of length M(=limit), containing the\n",
            "        subdivision levels of the subintervals, i.e., an element of this\n",
            "        array is equal to l if the corresponding subinterval is\n",
            "        ``|b-a|* 2**(-l)``.\n",
            "    'chebmo'\n",
            "        A rank-2 array of shape (25, maxp1) containing the computed\n",
            "        Chebyshev moments.  These can be passed on to an integration\n",
            "        over the same interval by passing this array as the second\n",
            "        element of the sequence wopts and passing infodict['momcom'] as\n",
            "        the first element.\n",
            "    \n",
            "    If one of the integration limits is infinite, then a Fourier integral is\n",
            "    computed (assuming w neq 0).  If full_output is 1 and a numerical error\n",
            "    is encountered, besides the error message attached to the output tuple,\n",
            "    a dictionary is also appended to the output tuple which translates the\n",
            "    error codes in the array ``info['ierlst']`` to English messages.  The\n",
            "    output information dictionary contains the following entries instead of\n",
            "    'last', 'alist', 'blist', 'rlist', and 'elist':\n",
            "    \n",
            "    'lst'\n",
            "        The number of subintervals needed for the integration (call it ``K_f``).\n",
            "    'rslst'\n",
            "        A rank-1 array of length M_f=limlst, whose first ``K_f`` elements\n",
            "        contain the integral contribution over the interval\n",
            "        ``(a+(k-1)c, a+kc)`` where ``c = (2*floor(|w|) + 1) * pi / |w|``\n",
            "        and ``k=1,2,...,K_f``.\n",
            "    'erlst'\n",
            "        A rank-1 array of length ``M_f`` containing the error estimate\n",
            "        corresponding to the interval in the same position in\n",
            "        ``infodict['rslist']``.\n",
            "    'ierlst'\n",
            "        A rank-1 integer array of length ``M_f`` containing an error flag\n",
            "        corresponding to the interval in the same position in\n",
            "        ``infodict['rslist']``.  See the explanation dictionary (last entry\n",
            "        in the output tuple) for the meaning of the codes.\n",
            "    \n",
            "    Examples\n",
            "    --------\n",
            "    Calculate :math:`\\int^4_0 x^2 dx` and compare with an analytic result\n",
            "    \n",
            "    >>> from scipy import integrate\n",
            "    >>> x2 = lambda x: x**2\n",
            "    >>> integrate.quad(x2, 0, 4)\n",
            "    (21.333333333333332, 2.3684757858670003e-13)\n",
            "    >>> print(4**3 / 3.)  # analytical result\n",
            "    21.3333333333\n",
            "    \n",
            "    Calculate :math:`\\int^\\infty_0 e^{-x} dx`\n",
            "    \n",
            "    >>> invexp = lambda x: np.exp(-x)\n",
            "    >>> integrate.quad(invexp, 0, np.inf)\n",
            "    (1.0, 5.842605999138044e-11)\n",
            "    \n",
            "    >>> f = lambda x,a : a*x\n",
            "    >>> y, err = integrate.quad(f, 0, 1, args=(1,))\n",
            "    >>> y\n",
            "    0.5\n",
            "    >>> y, err = integrate.quad(f, 0, 1, args=(3,))\n",
            "    >>> y\n",
            "    1.5\n",
            "    \n",
            "    Calculate :math:`\\int^1_0 x^2 + y^2 dx` with ctypes, holding\n",
            "    y parameter as 1::\n",
            "    \n",
            "        testlib.c =>\n",
            "            double func(int n, double args[n]){\n",
            "                return args[0]*args[0] + args[1]*args[1];}\n",
            "        compile to library testlib.*\n",
            "    \n",
            "    ::\n",
            "    \n",
            "       from scipy import integrate\n",
            "       import ctypes\n",
            "       lib = ctypes.CDLL('/home/.../testlib.*') #use absolute path\n",
            "       lib.func.restype = ctypes.c_double\n",
            "       lib.func.argtypes = (ctypes.c_int,ctypes.c_double)\n",
            "       integrate.quad(lib.func,0,1,(1))\n",
            "       #(1.3333333333333333, 1.4802973661668752e-14)\n",
            "       print((1.0**3/3.0 + 1.0) - (0.0**3/3.0 + 0.0)) #Analytic result\n",
            "       # 1.3333333333333333\n",
            "    \n",
            "    Be aware that pulse shapes and other sharp features as compared to the\n",
            "    size of the integration interval may not be integrated correctly using\n",
            "    this method. A simplified example of this limitation is integrating a\n",
            "    y-axis reflected step function with many zero values within the integrals\n",
            "    bounds.\n",
            "    \n",
            "    >>> y = lambda x: 1 if x<=0 else 0\n",
            "    >>> integrate.quad(y, -1, 1)\n",
            "    (1.0, 1.1102230246251565e-14)\n",
            "    >>> integrate.quad(y, -1, 100)\n",
            "    (1.0000000002199108, 1.0189464580163188e-08)\n",
            "    >>> integrate.quad(y, -1, 10000)\n",
            "    (0.0, 0.0)\n",
            "\n"
          ],
          "name": "stdout"
        }
      ]
    },
    {
      "cell_type": "code",
      "metadata": {
        "id": "MHlRVYGbStl-"
      },
      "source": [
        "from  scipy.integrate import quad"
      ],
      "execution_count": null,
      "outputs": []
    },
    {
      "cell_type": "code",
      "metadata": {
        "colab": {
          "base_uri": "https://localhost:8080/"
        },
        "id": "f5DzymUEUJLq",
        "outputId": "4fa9823b-bb88-4fc8-a381-42a8bf3fc8a4"
      },
      "source": [
        "def f(x):\n",
        "  return x**3/(x**8-2)\n",
        "area=quad(f,0,1)\n",
        "print(area)"
      ],
      "execution_count": null,
      "outputs": [
        {
          "output_type": "stream",
          "text": [
            "(-0.15580631003505763, 1.3706114467140702e-12)\n"
          ],
          "name": "stdout"
        }
      ]
    },
    {
      "cell_type": "markdown",
      "metadata": {
        "id": "jG0lzmwdmXvD"
      },
      "source": [
        "# Дифференциальное уравнение"
      ]
    },
    {
      "cell_type": "code",
      "metadata": {
        "id": "NJSPgLq6YzKf"
      },
      "source": [
        "from matplotlib import pyplot as plt\n",
        "def f(yf,t):\n",
        "  v=yf[0]\n",
        "  y=yf[1]\n",
        "  f0=-y+np.sin(t)-np.cos(2*t)\n",
        "  f1=v\n",
        "  return [f0,f1]\n",
        "\n",
        "ti=np.linspace(0,7*np.pi,1000)\n",
        "x0=np.pi #нач. координата \n",
        "v0=2 #скорость\n",
        "y0=[x0,v0] #нач. условия \n",
        "\n",
        "\n"
      ],
      "execution_count": null,
      "outputs": []
    },
    {
      "cell_type": "code",
      "metadata": {
        "id": "zl83AqWznpjb"
      },
      "source": [
        "sol=integrate.odeint(f,y0,ti)\n",
        "y1=sol[:,0]\n",
        "y2=sol[:,1]"
      ],
      "execution_count": null,
      "outputs": []
    },
    {
      "cell_type": "code",
      "metadata": {
        "colab": {
          "base_uri": "https://localhost:8080/",
          "height": 297
        },
        "id": "a-jQXF1_oJAS",
        "outputId": "0cc08619-671a-4245-d472-0042991e1098"
      },
      "source": [
        "#визуализация \n",
        "fig=plt.figure(facecolor='white')\n",
        "ax=fig.add_subplot(111)\n",
        "ax.set(title='решение уравнения второго порядка')\n",
        "ax.set_xlabel('$t$')\n",
        "ax.set_ylabel('$f$')\n",
        "ax.plot(ti,y1,color='violet') #1производная \n",
        "ax.plot(ti,y2,color='green')\n",
        "lgnd=ax.legend(['y1','y2'],loc='upper right',shadow=True)\n",
        "lgnd.get_frame().set_facecolor('#ffb19a')\n",
        "plt.grid(True)\n",
        "plt.show()\n"
      ],
      "execution_count": null,
      "outputs": [
        {
          "output_type": "display_data",
          "data": {
            "image/png": "[encoded data removed]",
            "text/plain": [
              "<Figure size 432x288 with 1 Axes>"
            ]
          },
          "metadata": {
            "tags": []
          }
        }
      ]
    }
  ]
}